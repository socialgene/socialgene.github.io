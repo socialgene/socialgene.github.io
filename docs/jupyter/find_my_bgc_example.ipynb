{
 "cells": [
  {
   "cell_type": "markdown",
   "metadata": {},
   "source": [
    "Load libraries"
   ]
  },
  {
   "cell_type": "code",
   "execution_count": null,
   "metadata": {},
   "outputs": [],
   "source": [
    "from rich import inspect\n",
    "from socialgene.classes.findmybgc import FindMyBGC"
   ]
  },
  {
   "cell_type": "markdown",
   "metadata": {},
   "source": [
    "Initiate a `FindMyBGC` object"
   ]
  },
  {
   "cell_type": "code",
   "execution_count": null,
   "metadata": {},
   "outputs": [],
   "source": [
    "findmybgc_object = FindMyBGC()"
   ]
  },
  {
   "cell_type": "markdown",
   "metadata": {},
   "source": [
    "Read a genbank file that represents *only* a single BGC"
   ]
  },
  {
   "cell_type": "code",
   "execution_count": null,
   "metadata": {},
   "outputs": [],
   "source": [
    "findmybgc_object.parse(\n",
    "    \"/Users/chase/Documents/socialgene_data/mibig_gbk_2.0/BGC0001848.gbk\"\n",
    ")"
   ]
  },
  {
   "cell_type": "markdown",
   "metadata": {},
   "source": [
    "Run pyhmmer on all input proteins.\n",
    "If `use_neo4j_precalc=True` the Neo4j database will be queried and the HMM annotations for **exact sequence match** proteins will be pulled in, then pyhmmer will be run on the remaining proteins.\n",
    "`cpus=0` is a phmmer setting which means use all available CPUs"
   ]
  },
  {
   "cell_type": "code",
   "execution_count": null,
   "metadata": {},
   "outputs": [],
   "source": [
    "findmybgc_object.annotate_with_pyhmmer(\n",
    "    hmm_filepath=\"/Users/chase/Documents/socialgene_test_run/longy/HMM_HASH/socialgene_all_hmms.hmm\",\n",
    "    use_neo4j_precalc=False,\n",
    "    cpus=0,\n",
    ")"
   ]
  },
  {
   "cell_type": "markdown",
   "metadata": {},
   "source": [
    "Run and parse the result of the Neo4j query to find similar BGCs via protein HMM annotations"
   ]
  },
  {
   "cell_type": "code",
   "execution_count": null,
   "metadata": {},
   "outputs": [],
   "source": [
    "findmybgc_object.query_neo4j()\n",
    "findmybgc_object.parse_neo4j_results()\n",
    "findmybgc_object.prioritize_loci_to_display()"
   ]
  },
  {
   "cell_type": "markdown",
   "metadata": {},
   "source": [
    "Generate data for clustermap "
   ]
  },
  {
   "cell_type": "code",
   "execution_count": null,
   "metadata": {},
   "outputs": [],
   "source": [
    "findmybgc_object.create_clustermap_uuids()\n",
    "findmybgc_object.add_cluster()\n",
    "findmybgc_object.add_groups()\n",
    "findmybgc_object.add_links()\n",
    "findmybgc_object.write_clustermap(outpath=\"my_result_clustermap.json\")"
   ]
  }
 ],
 "metadata": {
  "interpreter": {
   "hash": "06b64e91812fcb6a8dab07db7cc95276e3462b032fb8a721a84103b9890e1aea"
  },
  "kernelspec": {
   "display_name": "Python 3.9.0 64-bit ('socialgene': conda)",
   "language": "python",
   "name": "python3"
  },
  "language_info": {
   "name": "python",
   "version": "3.9.0"
  },
  "orig_nbformat": 4
 },
 "nbformat": 4,
 "nbformat_minor": 2
}
