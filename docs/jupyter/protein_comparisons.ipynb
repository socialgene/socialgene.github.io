{
 "cells": [
  {
   "cell_type": "code",
   "execution_count": null,
   "metadata": {},
   "outputs": [],
   "source": [
    "from socialgene.base.socialgene import SocialGene\n",
    "import socialgene.classes.neo4j_queries as neo4j_queries\n",
    "from socialgene.base.molbio import Protein, Domain"
   ]
  },
  {
   "cell_type": "code",
   "execution_count": null,
   "metadata": {},
   "outputs": [],
   "source": [
    "input_data = [\n",
    "    \"QG7q2lZZBCLJiosdnP4W6CMkOMsQZiDb\",\n",
    "    \"40Bz0WVqPHRvKJk71-gebIfIXPPq2e15\",\n",
    "    \"8ZvYiRpIpKeSk_xE4L3Q1MrHEQByOZDz\",\n",
    "    \"sgL7qjpn39DaEP16VgkGmIL516rhl1-u\",\n",
    "    \"fQU237sGLcjEJJWw2G95z4QDGuwJ4ScW\",\n",
    "    \"Xmqos-k6E06bon6oMuk5AMWa4E7KyWMi\",\n",
    "    \"Lq7OKZQ44G7z8fRQbFzUntbsAjBxTLon\",\n",
    "    \"5mrJXUSgcEuwUUDJ_Nj3c-spetIlc9Kg\",\n",
    "    \"MY8vhgYMc8o4JIOZu9By9QBxZpZPREEm\",\n",
    "    \"6zZk8xgBCTqlBPYoDk_Q_7GT2iJeM85j\",\n",
    "    \"vtP_vtcEvFnYv3pz_ah4xRPygOEytnVx\",\n",
    "    \"cLi26wy4PFrgt3HKzTrM9l2UaglcUJNM\",\n",
    "    \"QdirWaVwo2t0CyRFIHShzmDX-ymR42S8\",\n",
    "]"
   ]
  },
  {
   "cell_type": "code",
   "execution_count": null,
   "metadata": {},
   "outputs": [],
   "source": [
    "self = SocialGene()"
   ]
  },
  {
   "cell_type": "code",
   "execution_count": null,
   "metadata": {},
   "outputs": [],
   "source": [
    "for result in bro2.result:\n",
    "    hash_id = result[\"result\"][\"protein\"]\n",
    "    self.add_protein(Protein(hash_id=hash_id))\n",
    "    for hmm in result[\"result\"][\"hmms\"]:\n",
    "        for domain in hmm[\"domains\"]:\n",
    "            self.proteins[hash_id].domains.append(\n",
    "                Domain(**domain, hash_id=hmm[\"hmm_id\"])\n",
    "            )"
   ]
  },
  {
   "cell_type": "code",
   "execution_count": null,
   "metadata": {},
   "outputs": [],
   "source": [
    "self.compare_proteins()\n",
    "self.protein_comparison_to_df()\n",
    "print(self.protein_comparison)"
   ]
  },
  {
   "cell_type": "code",
   "execution_count": null,
   "metadata": {},
   "outputs": [],
   "source": [
    "self.compare_proteins(\"m0GJaRPrlKrjDu5D4tBGb1L1zLDsU17i\")\n",
    "self.protein_comparison_to_df()\n",
    "print(self.protein_comparison)"
   ]
  }
 ],
 "metadata": {
  "language_info": {
   "name": "python"
  },
  "orig_nbformat": 4
 },
 "nbformat": 4,
 "nbformat_minor": 2
}
