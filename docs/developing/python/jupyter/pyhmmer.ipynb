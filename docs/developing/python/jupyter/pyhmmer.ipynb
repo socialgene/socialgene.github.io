{
 "cells": [
  {
   "cell_type": "code",
   "execution_count": 30,
   "metadata": {},
   "outputs": [],
   "source": [
    "from rich import inspect\n",
    "from socialgene.base.socialgene import SocialGene\n",
    "from socialgene.base.molbio import Protein\n",
    "\n",
    "hmm_filepath = (\n",
    "    \"/home/chase/Documents/test/longy/socialgene/hmm_downloads/pfam/Pfam-A.hmm\"\n",
    ")"
   ]
  },
  {
   "cell_type": "code",
   "execution_count": 31,
   "metadata": {},
   "outputs": [
    {
     "data": {
      "text/plain": [
       "'6bzvjCtSIKG-Ygo8sGrhkOhAY1Dj1LMe'"
      ]
     },
     "execution_count": 31,
     "metadata": {},
     "output_type": "execute_result"
    }
   ],
   "source": [
    "socialgene_object = SocialGene()\n",
    "socialgene_object.add_protein(\n",
    "    Protein(\n",
    "        description=\"BGC0001666: microansamycin biosynthetic gene cluster from Micromonospora sp. HK160111\",\n",
    "        other_id=\"ATY46587.1\",\n",
    "        sequence=\"MLRTDLIRPLPELLQEHATRRGDKIAYRDDRRAVTYAELYRRTGRIAGHLPDLRLQPGDRAAICLGNQVETVESYLAITRAGAVGVPLNPRSTAAELAYLLHDSDARVLITDAAHVERLHDVLRERPQTRVVLVGAASSADVPPGTVLFESLAGAEPANPARDDLALDDLAWMLYTSGTTGRPKGVLSTQRNCLWSVAACYVPVPGLSAEDRVVWPLPLFHSLAHIFCLLAVTSVGATARLVDGMSAPDVLRALREESATFLAGVPTMYHYLIQAARETGFVAPDLRMCLVGGAITTAELRRSFEDAFGAPLLDAYGSTETCGSITINWPTGARVEGSCGLPVPGLSVRLVHPDTGRDVAVGEEGEVWVRGPSVMAGYHNQPEATAAAFSDGWYRTGDLARRDAAGYFSITGRIKELIIRGGENIHPGEVEEVLRLDPGVADVAVVGKPHDILGEVPVAFLVAGPGGFDPDRLLAACRERLSYYKVPEELYEIDRIPRTASGKITRHVLLDQSARLRATGSGRFDTLLTVDWPPLPSAQPSAAPGRWVVAGPDADTLAGHLREHGQDATAYADVSDVLSAITRGGPVPAVTLLLPAPASGETMSSARATTNDLSSQLRSWRSAGLPAESAIAVVTRGAVVTGSGEDVTDPGAAGVPGLLRSLRADGTDVVGVDLDTIDAASSVALIIAVTCGEPESAIRAGVVLTPRLVRAAAPTDASGTTLDPHGAVLVCGAGTTRGAAVARHLVIGHGARHLVLAGPRGRADQQLTQLAGDLERLGAKVRVAGADLTDAGQVASLLQYEKRPWSAAVVITDDSDPERSTVTAWNVHEATRAMPETPLLTITSTAGLAGGSGPAAAGNALLAAATHRHRARGLPAVLLAHDEPGSPSPVVGLDALPTREALAMLDAALVAGGSVYVAARPTPTQVRRDRLPALLRELIDTTQSTLGDRGGDPATRERLRARLAGLTREARLRNLETLVAGETAEVVGLSGGTAVDPGRAFADLGFTSLAAVQLRGRLAAATGLDLPTTVAFDRPTPAALARYLHDELFGERSPAAAPRTAPRLAEEPVAIVAMGCRLPGGVASPEDLWRLVEEETDAVSDFPDDRGWDVSALYDPDPDAPGKSYVREGGFLHDAAEFDAALFGISPREAMAMDPQQRLLLQTAWEVFERGGFSPTSLSGQDVGVFTGVMYHDYGSRTSRPPEGTEGYLGIGVAGSVVSGRVAYAFGLQGPAVSVDTACSSSLVALHLAAQALRLGECSMALAGGVAVMSQPSAFVEFSRQRGLAPDGRCKAFADAADGTGWSEGVALVLLERLSDARRNGHPVLAVLRGSAINQDGASNGLTAPSGPAQQKVIRQALANAGLVPADVDAVEAHGTGTRLGDPIEAQAVLATYGQDRPAGRPVWLGSLKSNIGHAQAAAGVAGVIKMVQAIRAGVLPRTLHVDRPTSHVDWSAGQVELLTSARPWPETAGPRRAGVSSFGVSGTNAHVIVEQAPAQEQPPAAPRPTAPVIVWPLSGGSAAAVRAQAGRLATTVAQPEVAPADVGFSLATSRAALPHRAVVVAESRPDAVAGLAAVADGEAAVTVVSGATVTGGLAILFTGQGSQRAGMGRDLHATYPAYREAFDEVCEALDPHLPRPLRPLVLAAPGSREARLLDRTEFAQPALFAVEVATYRLLSSWGVVPDHLAGHSIGELSAAYVAGVWSLADAATLVAARGRLMQALPDGGGMTAIEATEEEVRALLPGHVSVAAVNGPTSVVISGATDAVDEVAAEMAARGHRTSRLRVSHAFHSVLMEPMLDEFRAIAAGLSYAEPRLSIVSNVTGAAVAAGELVDPEYWVRHVRETVRFHDGVRALHEAGAVTFLEAGPGGVLAAMVQGCLTGEGPDEVEALPMLRKDQPEVLSVARTLSLLHVRGVAVSWSEFFADARCRRVELPTYPFQTERYWLPVGSAGDQDVAAAGLAGTDHPLLAAFAQVPGTGEVLGSGRVSVGSQPWFGDHRIGDAVVVPGTALAEMVLRAAEEVGLDRIEELILEQPMRLPADGALQLRLHVGAVGDDGRRRVTVHSRREDRDADQPWTRHAAGTIGGGAAGGAGEDLSSWPPAQAQPIDIDDLYADQAEAGYAYGPAFQGLHAVWSRDGEVFAEVRLPEDADPDAARYGLHPALFDAALHATKLLPQQGEEQVHLPFAFDDVSLEATGATALRVHARALAPHTVALSLADGVGRPLARVGALRLRPATDLTPAAPEPLRDSLFEVRWSPLGRIEFPDAVTCALVGSDTDALGVPAGWSRHADVAALVEAERDAASVADVVVLVVPASADEPDALSDTTGTVLTALQRWLSTPRSGAGPLVVFTRGGAAVHGAGELTDPTAAAVWAMVRSAQSEHPSRLVLLDADPGADLAVLVPAAVATGEPQLGARDGKLYVPRLVRADSVAPLATPGSAGHWRLAQRAGGSTLDELVLAPVDDLGDPGPGRVRVAVRAAGVNFRDVLVSLDMVPGQHGLGGEAAGVVVGTGAGVTGLAVGDRVMGMVDEFGAFGTVVDTDARLMVPIPDGWSFTEAAAVPIVFLSAWYGLHDLARLRAGESVLVNAAAGGVGLAAVQLARHLGAEVYGTASTGKWSYLREQGIPADRLASSRDTGFGERFRAVSGGRGVDVVLNSLTGELVDTSLALLPRGGRFLELGKTDIRVAEDVARAHAGVRYQAYDLREAGAERLGEMLRELAALFASGRLRPLPVTCWDVRRAPEAFRHLSQARHIGKVVLTVPRALAADGTVLVTGGTGTLGSLVARHLVAERGVRRLLLLSRGGRAAEGAPELVDELAALGAHVDVVAADVADRAQLAAAVAGVPPEHPLTAVVHTAGVIEDGVVESLTRDGLDRVLAPKAQAAWHLDDLTRHLDLAAHVLFSSAAGVFGNPGQANYAAANGFLDGLAQSRRARGLPVVSVAWGMWARRSAMTAGLDDATLRRNRRDGMRPLDTSEGLAVLDAALDAADPAFVGARLDLAGLRGAEAETAVPPMLRGLVQRRRRAQAATGADADSLTARLRPLPAAEQIRALTDLVRVEAAAVLGHPSAEAVDPERAFKDAGFDSLTAVELRNRLVGRTGLRLTPTLVFDYPAPVSLAAHLRATLLDGPDDHADAETGPAAHAGVPDEPIAIVSLSCRLPGADTPEDFWRLLADGVDASGEFPADRGWDLDRLFDPDPDHPGTSYTDRGAFIDAAAFDADFFGISPREALAMDPQQRLLLETSWEAVERAGIDPTSLRGSRTGVFTGVINHDYAIRLQNASADLEGYRLTGVSGSVASGRVAYTLGLEGPAITVDTACSSSLVALHLATGSLRRGECDMALVGGVTVMATPDNFVEFSRQRGLAVDGRCKAFASAADGTAWSEGVGLLLVERLSDARRHGHPVLAIVRGTAVNQDGASNGLTAPNGPSQQRVIRAALADARLGPADVDVVEAHGTGTALGDPIEAQALLATYGQDRPADRPLMLGSAKSNIGHTQGAAGVAGVIKVVLGMRHGMVPRTLHVDAPSPHVDWTAGAVSLVTENMPWPADGDVPRRAGVSSFGVSGTNAHVVLEAAPDEPAAPRSPDAAAPGPIPVILSARGVPALRAQAARLADHVASRPDLTPAEVVHSLLTGRALWEHRAAVPAADREELLAGLRALAAGDPVDTGTAEPGDVAFLFTGQGSQRVGMGRELYRAFPAYAEAYDAACAALDERLAGHVEVGLREVMTAEAGTPTAELLHQTVYTQAALFVVEVALFRLLEQLGVRPDHVAGHSIGEIAAAHAAGVLSLADASALVAARGRLMQELPAGGAMVAVEATESEVLPLLAGLAEHVSVAAVNGPRAVVVSGTEQAVTEVAAAGAAAGWRTKRLTVSHAFHSPLVEPMLDEFRHVARGLDYRSPGISVVSTLTGDVVAPERITSADYWVEHVRRPVRFADAVGAMRRLGVRTFLEVGPDAVLTAMAREELDADDRAPVCLALQRRGTDESATLLASLGSAQVRGVPVDWRPLLDGTAVRRVDLPTYPFQRQRYWPRSPFPGEDGSRPRTAAHPVLRTTVEVPGTDGLILSGSISAEAHPWVSDHVVADAVVVPGAALVELAVRAGDEAGAPVVEELVVEAPLTLPDKHPVDVRVVVDPGDTDGRHRVALFSRPRAADDGAPWVRHATGTLAPLPTDAPPPLDVAVWPPAGVEAVDLVDFYAGMARSGLSYGPAFRGLRAAWTRGEDVYAEVVLSELGDGEPSPFALHPALFDAALHAGVLGPVPASPPGQVTLPFAWSGVQVHAAGATGLRVRITRAGSAAVSIECVDPSGTPVLSVGGLTFRPVPAAAVAVVASGGHLWHQRWDEMTMPDAGATGPWATLADADDVAAMVAAAARVVRIDVPGDPGDAAMPQRLRAVTTGTLAGLRAVLDEPALASTVVLVTTRHAVATADGAPCDPAATAVWGLVRTAQTEYPDRIVLVDLGEAAGDEQALRRVVAMGQPQVALRSGVVLAPRLVRVDTAVAPPSRTLDPHGTVLVTGGTGALGAVVARHLVTGHGVRHLILTSRRGATADGASDLVTELAGLGAEARVVAADAGDRQALAGVLAEVAPDHPLTAVVHAAGVLDDGVLSAMDPVRLDAVLRPKADGAWHLHELTRDHDLAAFVLFSSVAGVLGNPGQSNYGAANAFLDGLAAMRRARGAPAVSVAWGLWDVAGAMGSGPVRGDRPARGGVVRPLAVADALAAFDEALRGGDPAPVAVRLDLAALRSGEGVPTLLRALARPGRPAVSAGAGQAGGDDLVARLGAMPAEERQNEVLSLVRAASAAALGRSSAAEIPPDAPFKDLGFDSLAAVDLRNRLTRAARIRLSATVVFDFPTPAELADHLGELLLPTEDAAAPVLAGVAGLERAIDTATLDGALRVEVADRLHALATRLAGTGGTPGDDDLSAASDEEIFRLVEDELGRG\",\n",
    "    )\n",
    ")"
   ]
  },
  {
   "cell_type": "code",
   "execution_count": 32,
   "metadata": {},
   "outputs": [
    {
     "data": {
      "text/html": [
       "<pre style=\"white-space:pre;overflow-x:auto;line-height:normal;font-family:Menlo,'DejaVu Sans Mono',consolas,'Courier New',monospace\"><span style=\"color: #000080; text-decoration-color: #000080\">╭─────────────────── </span><span style=\"color: #000080; text-decoration-color: #000080; font-weight: bold\">&lt;</span><span style=\"color: #ff00ff; text-decoration-color: #ff00ff; font-weight: bold\">class</span><span style=\"color: #000000; text-decoration-color: #000000\"> </span><span style=\"color: #008000; text-decoration-color: #008000\">'socialgene.base.socialgene.SocialGene'</span><span style=\"color: #000080; text-decoration-color: #000080; font-weight: bold\">&gt;</span><span style=\"color: #000080; text-decoration-color: #000080\"> ────────────────────╮</span>\n",
       "<span style=\"color: #000080; text-decoration-color: #000080\">│</span> <span style=\"color: #008000; text-decoration-color: #008000\">╭───────────────────────────────────────────────────────────────────────────────────────╮</span> <span style=\"color: #000080; text-decoration-color: #000080\">│</span>\n",
       "<span style=\"color: #000080; text-decoration-color: #000080\">│</span> <span style=\"color: #008000; text-decoration-color: #008000\">│</span> <span style=\"font-weight: bold\">&lt;</span><span style=\"color: #ff00ff; text-decoration-color: #ff00ff; font-weight: bold\">socialgene.base.socialgene.SocialGene</span><span style=\"color: #000000; text-decoration-color: #000000\"> object at </span><span style=\"color: #008080; text-decoration-color: #008080; font-weight: bold\">0x7f831165fd10</span><span style=\"font-weight: bold\">&gt;</span>                   <span style=\"color: #008000; text-decoration-color: #008000\">│</span> <span style=\"color: #000080; text-decoration-color: #000080\">│</span>\n",
       "<span style=\"color: #000080; text-decoration-color: #000080\">│</span> <span style=\"color: #008000; text-decoration-color: #008000\">╰───────────────────────────────────────────────────────────────────────────────────────╯</span> <span style=\"color: #000080; text-decoration-color: #000080\">│</span>\n",
       "<span style=\"color: #000080; text-decoration-color: #000080\">│</span>                                                                                           <span style=\"color: #000080; text-decoration-color: #000080\">│</span>\n",
       "<span style=\"color: #000080; text-decoration-color: #000080\">│</span> <span style=\"color: #808000; text-decoration-color: #808000; font-style: italic\">assembly</span> = <span style=\"color: #800080; text-decoration-color: #800080; font-style: italic\">None</span>                                                                           <span style=\"color: #000080; text-decoration-color: #000080\">│</span>\n",
       "<span style=\"color: #000080; text-decoration-color: #000080\">│</span>     <span style=\"color: #808000; text-decoration-color: #808000; font-style: italic\">loci</span> = <span style=\"font-weight: bold\">{}</span>                                                                             <span style=\"color: #000080; text-decoration-color: #000080\">│</span>\n",
       "<span style=\"color: #000080; text-decoration-color: #000080\">│</span> <span style=\"color: #808000; text-decoration-color: #808000; font-style: italic\">proteins</span> = <span style=\"font-weight: bold\">{</span>                                                                              <span style=\"color: #000080; text-decoration-color: #000080\">│</span>\n",
       "<span style=\"color: #000080; text-decoration-color: #000080\">│</span>                <span style=\"color: #008000; text-decoration-color: #008000\">'6bzvjCtSIKG-Ygo8sGrhkOhAY1Dj1LMe'</span>: <span style=\"font-weight: bold\">&lt;</span><span style=\"color: #ff00ff; text-decoration-color: #ff00ff; font-weight: bold\">socialgene.base.molbio.Protein</span><span style=\"color: #000000; text-decoration-color: #000000\"> </span>    <span style=\"color: #000080; text-decoration-color: #000080\">│</span>\n",
       "<span style=\"color: #000080; text-decoration-color: #000080\">│</span>            <span style=\"color: #000000; text-decoration-color: #000000\">object at </span><span style=\"color: #008080; text-decoration-color: #008080; font-weight: bold\">0x7f83121a5c20</span><span style=\"font-weight: bold\">&gt;</span>                                                      <span style=\"color: #000080; text-decoration-color: #000080\">│</span>\n",
       "<span style=\"color: #000080; text-decoration-color: #000080\">│</span>            <span style=\"font-weight: bold\">}</span>                                                                              <span style=\"color: #000080; text-decoration-color: #000080\">│</span>\n",
       "<span style=\"color: #000080; text-decoration-color: #000080\">╰───────────────────────────────────────────────────────────────────────────────────────────╯</span>\n",
       "</pre>\n"
      ],
      "text/plain": [
       "\u001b[34m╭─\u001b[0m\u001b[34m────────────────── \u001b[0m\u001b[1;34m<\u001b[0m\u001b[1;95mclass\u001b[0m\u001b[39m \u001b[0m\u001b[32m'socialgene.base.socialgene.SocialGene'\u001b[0m\u001b[1;34m>\u001b[0m\u001b[34m ───────────────────\u001b[0m\u001b[34m─╮\u001b[0m\n",
       "\u001b[34m│\u001b[0m \u001b[32m╭───────────────────────────────────────────────────────────────────────────────────────╮\u001b[0m \u001b[34m│\u001b[0m\n",
       "\u001b[34m│\u001b[0m \u001b[32m│\u001b[0m \u001b[1m<\u001b[0m\u001b[1;95msocialgene.base.socialgene.SocialGene\u001b[0m\u001b[39m object at \u001b[0m\u001b[1;36m0x7f831165fd10\u001b[0m\u001b[1m>\u001b[0m                   \u001b[32m│\u001b[0m \u001b[34m│\u001b[0m\n",
       "\u001b[34m│\u001b[0m \u001b[32m╰───────────────────────────────────────────────────────────────────────────────────────╯\u001b[0m \u001b[34m│\u001b[0m\n",
       "\u001b[34m│\u001b[0m                                                                                           \u001b[34m│\u001b[0m\n",
       "\u001b[34m│\u001b[0m \u001b[3;33massembly\u001b[0m = \u001b[3;35mNone\u001b[0m                                                                           \u001b[34m│\u001b[0m\n",
       "\u001b[34m│\u001b[0m     \u001b[3;33mloci\u001b[0m = \u001b[1m{\u001b[0m\u001b[1m}\u001b[0m                                                                             \u001b[34m│\u001b[0m\n",
       "\u001b[34m│\u001b[0m \u001b[3;33mproteins\u001b[0m = \u001b[1m{\u001b[0m                                                                              \u001b[34m│\u001b[0m\n",
       "\u001b[34m│\u001b[0m                \u001b[32m'6bzvjCtSIKG-Ygo8sGrhkOhAY1Dj1LMe'\u001b[0m: \u001b[1m<\u001b[0m\u001b[1;95msocialgene.base.molbio.Protein\u001b[0m\u001b[39m \u001b[0m    \u001b[34m│\u001b[0m\n",
       "\u001b[34m│\u001b[0m            \u001b[39mobject at \u001b[0m\u001b[1;36m0x7f83121a5c20\u001b[0m\u001b[1m>\u001b[0m                                                      \u001b[34m│\u001b[0m\n",
       "\u001b[34m│\u001b[0m            \u001b[1m}\u001b[0m                                                                              \u001b[34m│\u001b[0m\n",
       "\u001b[34m╰───────────────────────────────────────────────────────────────────────────────────────────╯\u001b[0m\n"
      ]
     },
     "metadata": {},
     "output_type": "display_data"
    }
   ],
   "source": [
    "inspect(socialgene_object)"
   ]
  },
  {
   "cell_type": "code",
   "execution_count": 33,
   "metadata": {},
   "outputs": [],
   "source": [
    "hash_id_list = list(socialgene_object.proteins.keys())\n",
    "socialgene_object._run_pyhmmer(\n",
    "    hmm_filepath=hmm_filepath,\n",
    "    hash_id_list=hash_id_list,\n",
    ")"
   ]
  },
  {
   "cell_type": "markdown",
   "metadata": {},
   "source": [
    "should use the `tophits[24][0].hits[0].domains[0]` not the `.tophits[24][0].hits[0].domains[0].alignment`"
   ]
  },
  {
   "cell_type": "code",
   "execution_count": 34,
   "metadata": {},
   "outputs": [
    {
     "ename": "AttributeError",
     "evalue": "'list' object has no attribute 'tophits'",
     "output_type": "error",
     "traceback": [
      "\u001b[0;31m---------------------------------------------------------------------------\u001b[0m",
      "\u001b[0;31mAttributeError\u001b[0m                            Traceback (most recent call last)",
      "\u001b[0;32m/tmp/ipykernel_360529/1703997493.py\u001b[0m in \u001b[0;36m<module>\u001b[0;34m\u001b[0m\n\u001b[0;32m----> 1\u001b[0;31m \u001b[0minspect\u001b[0m\u001b[0;34m(\u001b[0m\u001b[0msocialgene_object\u001b[0m\u001b[0;34m.\u001b[0m\u001b[0mproteins\u001b[0m\u001b[0;34m[\u001b[0m\u001b[0;34m'6bzvjCtSIKG-Ygo8sGrhkOhAY1Dj1LMe'\u001b[0m\u001b[0;34m]\u001b[0m\u001b[0;34m.\u001b[0m\u001b[0mtophits\u001b[0m\u001b[0;34m[\u001b[0m\u001b[0;36m24\u001b[0m\u001b[0;34m]\u001b[0m\u001b[0;34m[\u001b[0m\u001b[0;36m0\u001b[0m\u001b[0;34m]\u001b[0m\u001b[0;34m.\u001b[0m\u001b[0mhits\u001b[0m\u001b[0;34m[\u001b[0m\u001b[0;36m0\u001b[0m\u001b[0;34m]\u001b[0m\u001b[0;34m.\u001b[0m\u001b[0mdomains\u001b[0m\u001b[0;34m[\u001b[0m\u001b[0;36m0\u001b[0m\u001b[0;34m]\u001b[0m\u001b[0;34m.\u001b[0m\u001b[0malignment\u001b[0m\u001b[0;34m)\u001b[0m\u001b[0;34m\u001b[0m\u001b[0;34m\u001b[0m\u001b[0m\n\u001b[0m",
      "\u001b[0;31mAttributeError\u001b[0m: 'list' object has no attribute 'tophits'"
     ]
    }
   ],
   "source": [
    "inspect(\n",
    "    socialgene_object.proteins[\"6bzvjCtSIKG-Ygo8sGrhkOhAY1Dj1LMe\"]\n",
    "    .tophits[24][0]\n",
    "    .hits[0]\n",
    "    .domains[0]\n",
    "    .alignment\n",
    ")"
   ]
  },
  {
   "cell_type": "code",
   "execution_count": null,
   "metadata": {},
   "outputs": [
    {
     "ename": "AttributeError",
     "evalue": "'list' object has no attribute 'tophits'",
     "output_type": "error",
     "traceback": [
      "\u001b[0;31m---------------------------------------------------------------------------\u001b[0m",
      "\u001b[0;31mAttributeError\u001b[0m                            Traceback (most recent call last)",
      "\u001b[0;32m/tmp/ipykernel_360529/304256864.py\u001b[0m in \u001b[0;36m<module>\u001b[0;34m\u001b[0m\n\u001b[0;32m----> 1\u001b[0;31m \u001b[0;34m[\u001b[0m\u001b[0mlen\u001b[0m\u001b[0;34m(\u001b[0m\u001b[0mi\u001b[0m\u001b[0;34m)\u001b[0m \u001b[0;32mfor\u001b[0m \u001b[0mi\u001b[0m \u001b[0;32min\u001b[0m \u001b[0msocialgene_object\u001b[0m\u001b[0;34m.\u001b[0m\u001b[0mproteins\u001b[0m\u001b[0;34m[\u001b[0m\u001b[0;34m'6bzvjCtSIKG-Ygo8sGrhkOhAY1Dj1LMe'\u001b[0m\u001b[0;34m]\u001b[0m\u001b[0;34m.\u001b[0m\u001b[0mtophits\u001b[0m\u001b[0;34m]\u001b[0m\u001b[0;34m\u001b[0m\u001b[0;34m\u001b[0m\u001b[0m\n\u001b[0m",
      "\u001b[0;31mAttributeError\u001b[0m: 'list' object has no attribute 'tophits'"
     ]
    }
   ],
   "source": [
    "inspect(\n",
    "    socialgene_object.proteins[\"6bzvjCtSIKG-Ygo8sGrhkOhAY1Dj1LMe\"]\n",
    "    .tophits[24][0]\n",
    "    .hits[0]\n",
    "    .domains[1]\n",
    "    .alignment\n",
    ")"
   ]
  },
  {
   "cell_type": "code",
   "execution_count": null,
   "metadata": {},
   "outputs": [],
   "source": [
    "inspect(\n",
    "    socialgene_object.proteins[\"6bzvjCtSIKG-Ygo8sGrhkOhAY1Dj1LMe\"]\n",
    "    .tophits[0][0]\n",
    "    .hits[1],\n",
    "    methods=True,\n",
    ")"
   ]
  },
  {
   "cell_type": "code",
   "execution_count": null,
   "metadata": {},
   "outputs": [],
   "source": []
  },
  {
   "cell_type": "code",
   "execution_count": null,
   "metadata": {},
   "outputs": [],
   "source": []
  },
  {
   "cell_type": "code",
   "execution_count": null,
   "metadata": {},
   "outputs": [],
   "source": []
  }
 ],
 "metadata": {
  "interpreter": {
   "hash": "9c00705946eae5ebcfd714d1fb49618ef9d28c0f5dd501cf091dc38fa6626724"
  },
  "kernelspec": {
   "display_name": "Python 3.8.5 64-bit ('base': conda)",
   "language": "python",
   "name": "python3"
  },
  "language_info": {
   "codemirror_mode": {
    "name": "ipython",
    "version": 3
   },
   "file_extension": ".py",
   "mimetype": "text/x-python",
   "name": "python",
   "nbconvert_exporter": "python",
   "pygments_lexer": "ipython3",
   "version": "3.9.0"
  },
  "orig_nbformat": 4
 },
 "nbformat": 4,
 "nbformat_minor": 2
}
