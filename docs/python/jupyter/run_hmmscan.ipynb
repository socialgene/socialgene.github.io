{
 "cells": [
  {
   "cell_type": "code",
   "execution_count": null,
   "metadata": {},
   "outputs": [],
   "source": [
    "from socialgene.classes.hmmscan import Hmmscan\n",
    "\n",
    "a = Hmmscan()\n",
    "\n",
    "a.hmmpress(\n",
    "    hmm_path=\"/home/chase/Documents/socialgene_data/micromonospora_commit_6efde564f307c5582cee1b8d7e15559dd71a7ab9/long_cache/HMM_HASH/socialgene_nr_hmms_file_1_of_1.hmm\",\n",
    ")\n",
    "\n",
    "a.run_hmmscan(\n",
    "    fasta_path=\"/home/chase/Downloads/bro.faa\",\n",
    "    hmm_path=\"/home/chase/Documents/socialgene_data/micromonospora_commit_6efde564f307c5582cee1b8d7e15559dd71a7ab9/long_cache/HMM_HASH/socialgene_nr_hmms_file_1_of_1.hmm\",\n",
    "    domtblout_path=\"/home/chase/Downloads/domy\",\n",
    "    cpus=24,\n",
    ")"
   ]
  },
  {
   "cell_type": "code",
   "execution_count": null,
   "metadata": {},
   "outputs": [],
   "source": [
    "from copy import deepcopy\n",
    "from rich import inspect\n",
    "from socialgene.classes.findmybgc import FindMyBGC\n",
    "\n",
    "from socialgene.classes.clustermap import Clustermap\n",
    "\n",
    "findmybgc_object = FindMyBGC()\n",
    "\n",
    "findmybgc_object.parse(\n",
    "    \"/home/chase/Documents/socialgene_data/mibig_gbk_2.0//BGC0001848.gbk\"\n",
    ")"
   ]
  }
 ],
 "metadata": {
  "language_info": {
   "name": "python"
  },
  "orig_nbformat": 4
 },
 "nbformat": 4,
 "nbformat_minor": 2
}
