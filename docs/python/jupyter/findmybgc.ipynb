{
 "cells": [
  {
   "cell_type": "markdown",
   "metadata": {},
   "source": [
    "Run as usual. If you're following along, change the filepaths in the first code block."
   ]
  },
  {
   "cell_type": "markdown",
   "metadata": {},
   "source": [
    "# Using `FindMyBGC()`"
   ]
  },
  {
   "cell_type": "code",
   "execution_count": null,
   "metadata": {},
   "outputs": [],
   "source": [
    "from socialgene.classes.findmybgc import FindMyBGC\n",
    "\n",
    "hmm_filepath = \"/home/chase/Documents/socialgene_data/test/long_cache/HMM_HASH/socialgene_all_hmms.hmm\"\n",
    "gbk_filepath = \"/home/chase/Documents/socialgene_data/mibig_gbk_2.0//BGC0001848.gbk\""
   ]
  },
  {
   "cell_type": "code",
   "execution_count": null,
   "metadata": {},
   "outputs": [],
   "source": [
    "findmybgc_object = FindMyBGC()\n",
    "\n",
    "findmybgc_object.parse(gbk_filepath=gbk_filepath)\n",
    "\n",
    "findmybgc_object.annotate_with_pyhmmer(\n",
    "    hmm_filepath=hmm_filepath,\n",
    "    use_neo4j_precalc=False,\n",
    "    cpus=0,\n",
    ")"
   ]
  },
  {
   "cell_type": "markdown",
   "metadata": {},
   "source": [
    "Run the comparison (all-vs-all)"
   ]
  },
  {
   "cell_type": "code",
   "execution_count": null,
   "metadata": {},
   "outputs": [],
   "source": [
    "findmybgc_object.compare_proteins()"
   ]
  },
  {
   "cell_type": "markdown",
   "metadata": {},
   "source": [
    "THe results could be accessed no but it's not super useful in this form (shoing the first nfive results below)"
   ]
  },
  {
   "cell_type": "code",
   "execution_count": null,
   "metadata": {},
   "outputs": [],
   "source": [
    "findmybgc_object.protein_comparison[0:5]"
   ]
  },
  {
   "cell_type": "markdown",
   "metadata": {},
   "source": [
    "So convert the results into a pandas dataframe"
   ]
  },
  {
   "cell_type": "code",
   "execution_count": null,
   "metadata": {},
   "outputs": [],
   "source": [
    "findmybgc_object.protein_comparison_to_df()"
   ]
  },
  {
   "cell_type": "markdown",
   "metadata": {},
   "source": [
    "And view the results"
   ]
  },
  {
   "cell_type": "code",
   "execution_count": null,
   "metadata": {},
   "outputs": [],
   "source": [
    "findmybgc_object.protein_comparison"
   ]
  }
 ],
 "metadata": {
  "language_info": {
   "name": "python"
  },
  "orig_nbformat": 4
 },
 "nbformat": 4,
 "nbformat_minor": 2
}
