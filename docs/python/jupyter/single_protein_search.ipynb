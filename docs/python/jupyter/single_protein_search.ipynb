{
    "cells": [
        {
            "cell_type": "markdown",
            "metadata": {},
            "source": [
                "# Using `SingleProteinSearch()`"
            ]
        },
        {
            "cell_type": "markdown",
            "metadata": {},
            "source": [
                "Requires a neo4j databases to be running at `localhost:7687`"
            ]
        },
        {
            "cell_type": "code",
            "execution_count": 50,
            "metadata": {},
            "outputs": [],
            "source": [
                "import os\n",
                "import logging\n",
                "from rich import inspect\n",
                "# Sometimes the neo4j debug logger is quite verbose, so it's disabled for this example\n",
                "logging.getLogger(\"neo4j\").disabled = True"
            ]
        },
        {
            "cell_type": "markdown",
            "metadata": {},
            "source": [
                "Tell socialgene where it can talk to the neo4j database"
            ]
        },
        {
            "cell_type": "code",
            "execution_count": 51,
            "metadata": {},
            "outputs": [],
            "source": [
                "os.environ[\"NEO4J_URI\"] = \"bolt://localhost:7687\""
            ]
        },
        {
            "cell_type": "markdown",
            "metadata": {},
            "source": [
                "Provide the path to the HMMs used to create the database"
            ]
        },
        {
            "cell_type": "code",
            "execution_count": 52,
            "metadata": {},
            "outputs": [],
            "source": [
                "hmm_filepath=\"/home/chase/Documents/socialgene_data/mibig_antismash/socialgene_per_run/hmm_cache/socialgene_nr_hmms_file_1_of_1.hmm\""
            ]
        },
        {
            "cell_type": "markdown",
            "metadata": {},
            "source": [
                "Import the required module"
            ]
        },
        {
            "cell_type": "code",
            "execution_count": 53,
            "metadata": {},
            "outputs": [],
            "source": [
                "from socialgene.findmybgc.findmybgc import FindMyBGC"
            ]
        },
        {
            "cell_type": "markdown",
            "metadata": {},
            "source": [
                "Create a SingleProteinSearch() object. Requires two inputs:\n",
                "\n",
                "1) A protein sequence\n",
                "2) Path to a file of HMMs"
            ]
        },
        {
            "cell_type": "code",
            "execution_count": 54,
            "metadata": {},
            "outputs": [
                {
                    "data": {
                        "text/html": [
                            "<pre style=\"white-space:pre;overflow-x:auto;line-height:normal;font-family:Menlo,'DejaVu Sans Mono',consolas,'Courier New',monospace\"><span style=\"color: #7fbfbf; text-decoration-color: #7fbfbf\">2022-05-05 16:19:55 </span><span style=\"color: #000080; text-decoration-color: #000080\">INFO    </span> Running pyHMMER on: <span style=\"color: #008080; text-decoration-color: #008080; font-weight: bold\">1</span> input proteins               <a href=\"file:///home/chase/Documents/socialgene/socialgene/src/socialgene/pyhmmer/pyhmmer.py\" target=\"_blank\"><span style=\"color: #7f7f7f; text-decoration-color: #7f7f7f\">pyhmmer.py</span></a><span style=\"color: #7f7f7f; text-decoration-color: #7f7f7f\">:</span><a href=\"file:///home/chase/Documents/socialgene/socialgene/src/socialgene/pyhmmer/pyhmmer.py#91\" target=\"_blank\"><span style=\"color: #7f7f7f; text-decoration-color: #7f7f7f\">91</span></a>\n",
                            "</pre>\n"
                        ],
                        "text/plain": [
                            "\u001b[2;36m2022-05-05 16:19:55\u001b[0m\u001b[2;36m \u001b[0m\u001b[34mINFO    \u001b[0m Running pyHMMER on: \u001b[1;36m1\u001b[0m input proteins               \u001b]8;id=773654;file:///home/chase/Documents/socialgene/socialgene/src/socialgene/pyhmmer/pyhmmer.py\u001b\\\u001b[2mpyhmmer.py\u001b[0m\u001b]8;;\u001b\\\u001b[2m:\u001b[0m\u001b]8;id=449057;file:///home/chase/Documents/socialgene/socialgene/src/socialgene/pyhmmer/pyhmmer.py#91\u001b\\\u001b[2m91\u001b[0m\u001b]8;;\u001b\\\n"
                        ]
                    },
                    "metadata": {},
                    "output_type": "display_data"
                },
                {
                    "data": {
                        "text/html": [
                            "<pre style=\"white-space:pre;overflow-x:auto;line-height:normal;font-family:Menlo,'DejaVu Sans Mono',consolas,'Courier New',monospace\"><span style=\"color: #7fbfbf; text-decoration-color: #7fbfbf\">2022-05-05 16:19:59 </span><span style=\"color: #000080; text-decoration-color: #000080\">INFO    </span> Added <span style=\"color: #008080; text-decoration-color: #008080; font-weight: bold\">150</span> domains to <span style=\"color: #008080; text-decoration-color: #008080; font-weight: bold\">1</span> of <span style=\"color: #008080; text-decoration-color: #008080; font-weight: bold\">1</span> input proteins. <span style=\"color: #008080; text-decoration-color: #008080; font-weight: bold\">197</span>   <a href=\"file:///home/chase/Documents/socialgene/socialgene/src/socialgene/pyhmmer/pyhmmer.py\" target=\"_blank\"><span style=\"color: #7f7f7f; text-decoration-color: #7f7f7f\">pyhmmer.py</span></a><span style=\"color: #7f7f7f; text-decoration-color: #7f7f7f\">:</span><a href=\"file:///home/chase/Documents/socialgene/socialgene/src/socialgene/pyhmmer/pyhmmer.py#128\" target=\"_blank\"><span style=\"color: #7f7f7f; text-decoration-color: #7f7f7f\">128</span></a>\n",
                            "<span style=\"color: #7fbfbf; text-decoration-color: #7fbfbf\">                    </span>         domains reported from hmmsearch didn't pass       <span style=\"color: #7f7f7f; text-decoration-color: #7f7f7f\">              </span>\n",
                            "<span style=\"color: #7fbfbf; text-decoration-color: #7fbfbf\">                    </span>         additional filtering thresholds.                  <span style=\"color: #7f7f7f; text-decoration-color: #7f7f7f\">              </span>\n",
                            "</pre>\n"
                        ],
                        "text/plain": [
                            "\u001b[2;36m2022-05-05 16:19:59\u001b[0m\u001b[2;36m \u001b[0m\u001b[34mINFO    \u001b[0m Added \u001b[1;36m150\u001b[0m domains to \u001b[1;36m1\u001b[0m of \u001b[1;36m1\u001b[0m input proteins. \u001b[1;36m197\u001b[0m   \u001b]8;id=451484;file:///home/chase/Documents/socialgene/socialgene/src/socialgene/pyhmmer/pyhmmer.py\u001b\\\u001b[2mpyhmmer.py\u001b[0m\u001b]8;;\u001b\\\u001b[2m:\u001b[0m\u001b]8;id=285975;file:///home/chase/Documents/socialgene/socialgene/src/socialgene/pyhmmer/pyhmmer.py#128\u001b\\\u001b[2m128\u001b[0m\u001b]8;;\u001b\\\n",
                            "\u001b[2;36m                    \u001b[0m         domains reported from hmmsearch didn't pass       \u001b[2m              \u001b[0m\n",
                            "\u001b[2;36m                    \u001b[0m         additional filtering thresholds.                  \u001b[2m              \u001b[0m\n"
                        ]
                    },
                    "metadata": {},
                    "output_type": "display_data"
                }
            ],
            "source": [
                "sps_object = FindMyBGC()\n",
                "# pikAI from https://mibig.secondarymetabolites.org/repository/BGC0000094/index.html#r1c1\n",
                "sps_object.input_sg_object.add_protein(sequence = \"MSSAGITRTGARTPVTGRGAAAWDTGEVRVRRGLPPAGPDHAEHSFSRAPTGDVRAELIRGEMSTVSKSESEEFVSVSNDAGSAHGTAEPVAVVGISCRVPGARDPREFWELLAAGGQAVTDVPADRWNAGDFYDPDRSAPGRSNSRWGGFIEDVDRFDAAFFGISPREAAEMDPQQRLALELGWEALERAGIDPSSLTGTRTGVFAGAIWDDYATLKHRQGGAAITPHTVTGLHRGIIANRLSYTLGLRGPSMVVDSGQSSSLVAVHLACESLRRGESELALAGGVSLNLVPDSIIGASKFGGLSPDGRAYTFDARANGYVRGEGGGFVVLKRLSRAVADGDPVLAVIRGSAVNNGGAAQGMTTPDAQAQEAVLREAHERAGTAPADVRYVELHGTGTPVGDPIEAAALGAALGTGRPAGQPLLVGSVKTNIGHLEGAAGIAGLIKAVLAVRGRALPASLNYETPNPAIPFEELNLRVNTEYLPWEPEHDGQRMVVGVSSFGMGGTNAHVVLEEAPGGCRGASVVESTVGGSAVGGGVVPWVVSAKSAAALDAQIERLAAFASRDRTDGVDAGAVDAGAVDAGAVARVLAGGRAQFEHRAVVVGSGPDDLAAALAAPEGLVRGVASGVGRVAFVFPGQGTQWAGMGAELLDSSAVFAAAMAECEAALSPYVDWSLEAVVRQAPGAPTLERVDVVQPVTFAVMVSLARVWQHHGVTPQAVVGHSQGEIAAAYVAGALSLDDAARVVTLRSKSIAAHLAGKGGMLSLALSEDAVLERLAGFDGLSVAAVNGPTATVVSGDPVQIEELARACEADGVRARVIPVDYASHSRQVEIIESELAEVLAGLSPQAPRVPFFSTLEGAWITEPVLDGGYWYRNLRHRVGFAPAVETLATDEGFTHFVEVSAHPVLTMALPGTVTGLATLRRDNGGQDRLVASLAEAWANGLAVDWSPLLPSATGHHSDLPTYAFQTERHWLGEIEALAPAGEPAVQPAVLRTEAAEPAELDRDEQLRVILDKVRAQTAQVLGYATGGQIEVDRTFREAGCTSLTGVDLRNRINAAFGVRMAPSMIFDFPTPEALAEQLLLVVHGEAAANPAGAEPAPVAAAGAVDEPVAIVGMACRLPGGVASPEDLWRLVAGGGDAISEFPQDRGWDVEGLYHPDPEHPGTSYVRQGGFIENVAGFDAAFFGISPREALAMDPQQRLLLETSWEAVEDAGIDPTSLRGRQVGVFTGAMTHEYGPSLRDGGEGLDGYLLTGNTASVMSGRVSYTLGLEGPALTVDTACSSSLVALHLAVQALRKGEVDMALAGGVAVMPTPGMFVEFSRQRGLAGDGRSKAFAASADGTSWSEGVGVLLVERLSDARRNGHQVLAVVRGSALNQDGASNGLTAPNGPSQQRVIRRALADARLTTSDVDVVEAHGTGTRLGDPIEAQALIATYGQGRDDEQPLRLGSLKSNIGHTQAAAGVSGVIKMVQAMRHGLLPKTLHVDEPSDQIDWSAGAVELLTEAVDWPEKQDGGLRRAAVSSFGISGTNAHVVLEEAPVVVEGASVVEPSVGGSAVGGGVTPWVVSAKSAAALDAQIERLAAFASRDRTDDADAGAVDAGAVAHVLADGRAQFEHRAVALGAGADDLVQALADPDGLIRGTASGVGRVAFVFPGQGTQWAGMGAELLDSSAVFAAAMAECEAALSPYVDWSLEAVVRQAPGAPTLERVDVVQPVTFAVMVSLARVWQHHGVTPQAVVGHSQGEIAAAYVAGALPLDDAARVVTLRSKSIAAHLAGKGGMLSLALNEDAVLERLSDFDGLSVAAVNGPTATVVSGDPVQIEELAQACKADGFRARIIPVDYASHSRQVEIIESELAQVLAGLSPQAPRVPFFSTLEGTWITEPVLDGTYWYRNLRHRVGFAPAIETLAVDEGFTHFVEVSAHPVLTMTLPETVTGLGTLRREQGGQERLVTSLAEAWVNGLPVAWTSLLPATASRPGLPTYAFQAERYWLENTPAALATGDDWRYRIDWKRLPAAEGSERTGLSGRWLAVTPEDHSAQAAAVLTALVDAGAKVEVLTAGADDDREALAARLTALTTGDGFTGVVSLLDGLVPQVAWVQALGDAGIKAPLWSVTQGAVSVGRLDTPADPDRAMLWGLGRVVALEHPERWAGLVDLPAQPDAAALAHLVTALSGATGEDQIAIRTTGLHARRLARAPLHGRRPTRDWQPHGTVLITGGTGALGSHAARWMAHHGAEHLLLVSRSGEQAPGATQLTAELTASGARVTIAACDVADPHAMRTLLDAIPAETPLTAVVHTAGALDDGIVDTLTAEQVRRAHRAKAVGASVLDELTRDLDLDAFVLFSSVSSTLGIPGQGNYAPHNAYLDALAARRRATGRSAVSVAWGPWDGGGMAAGDGVAERLRNHGVPGMDPELALAALESALGRDETAITVADIDWDRFYLAYSSGRPQPLVEELPEVRRIIDARDSATSGQGGSSAQGANPLAERLAAAAPGERTEILLGLVRAQAAAVLRMRSPEDVAADRAFKDIGFDSLAGVELRNRLTRATGLQLPATLVFDHPTPLALVSLLRSEFLGDEETADARRSAALPATVGAGAGAGAGTDADDDPIAIVAMSCRYPGDIRSPEDLWRMLSEGGEGITPFPTDRGWDLDGLYDADPDALGRAYVREGGFLHDAAEFDAEFFGVSPREALAMDPQQRMLLTTSWEAFERAGIEPASLRGSSTGVFIGLSYQDYAARVPNAPRGVEGYLLTGSTPSVASGRIAYTFGLEGPATTVDTACSSSLTALHLAVRALRSGECTMALAGGVAMMATPHMFVEFSRQRALAPDGRSKAFSADADGFGAAEGVGLLLVERLSDARRNGHPVLAVVRGTAVNQDGASNGLTAPNGPSQQRVIRQALADARLAPGDIDAVETHGTGTSLGDPIEAQGLQATYGKERPAERPLAIGSVKSNIGHTQAAAGAAGIIKMVLAMRHGTLPKTLHADEPSPHVDWANSGLALVTEPIDWPAGTGPRRAAVSSFGISGTNAHVVLEQAPDAAGEVLGADEVPEVSETVAMAGTAGTSEVAEGSEASEAPAAPGSREASLPGHLPWVLSAKDEQSLRGQAAALHAWLSEPAADLSDADGPARLRDVGYTLATSRTAFAHRAAVTAADRDGFLDGLATLAQGGTSAHVHLDTARDGTTAFLFTGQGSQRPGAGRELYDRHPVFARALDEICAHLDGHLELPLLDVMFAAEGSAEAALLDETRYTQCALFALEVALFRLVESWGMRPAALLGHSVGEIAAAHVAGVFSLADAARLVAARGRLMQELPAGGAMLAVQAAEDEIRVWLETEERYAGRLDVAAVNGPEAAVLSGDADAAREAEAYWSGLGRRTRALRVSHAFHSAHMDGMLDGFRAVLETVEFRRPSLTVVSNVTGLAAGPDDLCDPEYWVRHVRGTVRFLDGVRVLRDLGVRTCLELGPDGVLTAMAADGLADTPADSAAGSPVGSPAGSPADSAAGALRPRPLLVALLRRKRSETETVADALGRAHAHGTGPDWHAWFAGSGAHRVDLPTYSFRRDRYWLDAPAADTAVDTAGLGLGTADHPLLGAVVSLPDRDGLLLTGRLSLRTHPWLADHAVLGSVLLPGAAMVELAAHAAESAGLRDVRELTLLEPLVLPEHGGVELRVTVGAPAGEPGGESAGDGARPVSLHSRLADAPAGTAWSCHATGLLATDRPELPVAPDRAAMWPPQGAEEVPLDGLYERLDGNGLAFGPLFQGLNAVWRYEGEVFADIALPATTNATAPATANGGGSAAAAPYGIHPALLDASLHAIAVGGLVDEPELVRVPFHWSGVTVHAAGAAAARVRLASAGTDAVSLSLTDGEGRPLVSVERLTLRPVTADQAAASRVGGLMHRVAWRPYALASSGEQDPHATSYGPTAVLGKDELKVAAALESAGVEVGLYPDLAALSQDVAAGAPAPRTVLAPLPAGPADGGAEGVRGTVARTLELLQAWLADEHLAGTRLLLVTRGAVRDPEGSGADDGGEDLSHAAAWGLVRTAQTENPGRFGLLDLADDASSYRTLPSVLSDAGLRDEPQLALHDGTIRLARLASVRPETGTAAPALAPEGTVLLTGGTGGLGGLVARHVVGEWGVRRLLLVSRRGTDAPGADELVHELEALGADVSVAACDVADREALTAVLDAIPAEHPLTAVVHTAGVLSDGTLPSMTTEDVEHVLRPKVDAAFLLDELTSTPAYDLAAFVMFSSAAAVFGGAGQGAYAAANATLDALAWRRRAAGLPALSLGWGLWAETSGMTGELGQADLRRMSRAGIGGISDAEGIALLDAALRDDRHPVLLPLRLDAAGLRDAAGNDPAGIPALFRDVVGARTVRARPSAASASTTAGTAGTPGTADGAAETAAVTLADRAATVDGPARQRLLLEFVVGEVAEVLGHARGHRIDAERGFLDLGFDSLTAVELRNRLNSAGGLALPATLVFDHPSPAALASHLDAELPRGASDQDGAGNRNGNENGTTASRSTAETDALLAQLTRLEGALVLTGLSDAPGSEEVLEHLRSLRSMVTGETGTGTASGAPDGAGSGAEDRPWAAGDGAGGGSEDGAGVPDFMNASAEELFGLLDQDPSTD\")\n",
                "sps_object.annotate_input(use_neo4j_precalc = False, hmm_filepath=hmm_filepath)"
            ]
        },
        {
            "cell_type": "markdown",
            "metadata": {},
            "source": [
                "First 5 HMM hash-ids:"
            ]
        },
        {
            "cell_type": "code",
            "execution_count": 55,
            "metadata": {},
            "outputs": [
                {
                    "data": {
                        "text/html": [
                            "<pre style=\"white-space:pre;overflow-x:auto;line-height:normal;font-family:Menlo,'DejaVu Sans Mono',consolas,'Courier New',monospace\"><span style=\"color: #000080; text-decoration-color: #000080\">╭───────────────────────── </span><span style=\"color: #000080; text-decoration-color: #000080; font-weight: bold\">&lt;</span><span style=\"color: #ff00ff; text-decoration-color: #ff00ff; font-weight: bold\">class</span><span style=\"color: #000000; text-decoration-color: #000000\"> </span><span style=\"color: #008000; text-decoration-color: #008000\">'list'</span><span style=\"color: #000080; text-decoration-color: #000080; font-weight: bold\">&gt;</span><span style=\"color: #000080; text-decoration-color: #000080\"> ──────────────────────────╮</span>\n",
                            "<span style=\"color: #000080; text-decoration-color: #000080\">│</span> <span style=\"color: #008080; text-decoration-color: #008080\">Built-in mutable sequence.</span>                                        <span style=\"color: #000080; text-decoration-color: #000080\">│</span>\n",
                            "<span style=\"color: #000080; text-decoration-color: #000080\">│</span>                                                                   <span style=\"color: #000080; text-decoration-color: #000080\">│</span>\n",
                            "<span style=\"color: #000080; text-decoration-color: #000080\">│</span> <span style=\"color: #008000; text-decoration-color: #008000\">╭───────────────────────────────────────────────────────────────╮</span> <span style=\"color: #000080; text-decoration-color: #000080\">│</span>\n",
                            "<span style=\"color: #000080; text-decoration-color: #000080\">│</span> <span style=\"color: #008000; text-decoration-color: #008000\">│</span> <span style=\"font-weight: bold\">[</span>                                                             <span style=\"color: #008000; text-decoration-color: #008000\">│</span> <span style=\"color: #000080; text-decoration-color: #000080\">│</span>\n",
                            "<span style=\"color: #000080; text-decoration-color: #000080\">│</span> <span style=\"color: #008000; text-decoration-color: #008000\">│</span> <span style=\"color: #7fbf7f; text-decoration-color: #7fbf7f\">│   </span><span style=\"font-weight: bold\">&lt;</span><span style=\"color: #ff00ff; text-decoration-color: #ff00ff; font-weight: bold\">socialgene.base.molbio.Domain</span><span style=\"color: #000000; text-decoration-color: #000000\"> object at </span><span style=\"color: #008080; text-decoration-color: #008080; font-weight: bold\">0x7efd902d5160</span><span style=\"font-weight: bold\">&gt;</span>, <span style=\"color: #008000; text-decoration-color: #008000\">│</span> <span style=\"color: #000080; text-decoration-color: #000080\">│</span>\n",
                            "<span style=\"color: #000080; text-decoration-color: #000080\">│</span> <span style=\"color: #008000; text-decoration-color: #008000\">│</span> <span style=\"color: #7fbf7f; text-decoration-color: #7fbf7f\">│   </span><span style=\"font-weight: bold\">&lt;</span><span style=\"color: #ff00ff; text-decoration-color: #ff00ff; font-weight: bold\">socialgene.base.molbio.Domain</span><span style=\"color: #000000; text-decoration-color: #000000\"> object at </span><span style=\"color: #008080; text-decoration-color: #008080; font-weight: bold\">0x7efd90275a60</span><span style=\"font-weight: bold\">&gt;</span>, <span style=\"color: #008000; text-decoration-color: #008000\">│</span> <span style=\"color: #000080; text-decoration-color: #000080\">│</span>\n",
                            "<span style=\"color: #000080; text-decoration-color: #000080\">│</span> <span style=\"color: #008000; text-decoration-color: #008000\">│</span> <span style=\"color: #7fbf7f; text-decoration-color: #7fbf7f\">│   </span><span style=\"font-weight: bold\">&lt;</span><span style=\"color: #ff00ff; text-decoration-color: #ff00ff; font-weight: bold\">socialgene.base.molbio.Domain</span><span style=\"color: #000000; text-decoration-color: #000000\"> object at </span><span style=\"color: #008080; text-decoration-color: #008080; font-weight: bold\">0x7efd90275c10</span><span style=\"font-weight: bold\">&gt;</span>, <span style=\"color: #008000; text-decoration-color: #008000\">│</span> <span style=\"color: #000080; text-decoration-color: #000080\">│</span>\n",
                            "<span style=\"color: #000080; text-decoration-color: #000080\">│</span> <span style=\"color: #008000; text-decoration-color: #008000\">│</span> <span style=\"color: #7fbf7f; text-decoration-color: #7fbf7f\">│   </span><span style=\"font-weight: bold\">&lt;</span><span style=\"color: #ff00ff; text-decoration-color: #ff00ff; font-weight: bold\">socialgene.base.molbio.Domain</span><span style=\"color: #000000; text-decoration-color: #000000\"> object at </span><span style=\"color: #008080; text-decoration-color: #008080; font-weight: bold\">0x7efd90275ee0</span><span style=\"font-weight: bold\">&gt;</span>, <span style=\"color: #008000; text-decoration-color: #008000\">│</span> <span style=\"color: #000080; text-decoration-color: #000080\">│</span>\n",
                            "<span style=\"color: #000080; text-decoration-color: #000080\">│</span> <span style=\"color: #008000; text-decoration-color: #008000\">│</span> <span style=\"color: #7fbf7f; text-decoration-color: #7fbf7f\">│   </span><span style=\"font-weight: bold\">&lt;</span><span style=\"color: #ff00ff; text-decoration-color: #ff00ff; font-weight: bold\">socialgene.base.molbio.Domain</span><span style=\"color: #000000; text-decoration-color: #000000\"> object at </span><span style=\"color: #008080; text-decoration-color: #008080; font-weight: bold\">0x7efd90275ca0</span><span style=\"font-weight: bold\">&gt;</span>, <span style=\"color: #008000; text-decoration-color: #008000\">│</span> <span style=\"color: #000080; text-decoration-color: #000080\">│</span>\n",
                            "<span style=\"color: #000080; text-decoration-color: #000080\">│</span> <span style=\"color: #008000; text-decoration-color: #008000\">│</span> <span style=\"color: #7fbf7f; text-decoration-color: #7fbf7f\">│   </span><span style=\"font-weight: bold\">&lt;</span><span style=\"color: #ff00ff; text-decoration-color: #ff00ff; font-weight: bold\">socialgene.base.molbio.Domain</span><span style=\"color: #000000; text-decoration-color: #000000\"> object at </span><span style=\"color: #008080; text-decoration-color: #008080; font-weight: bold\">0x7efd90275f70</span><span style=\"font-weight: bold\">&gt;</span>, <span style=\"color: #008000; text-decoration-color: #008000\">│</span> <span style=\"color: #000080; text-decoration-color: #000080\">│</span>\n",
                            "<span style=\"color: #000080; text-decoration-color: #000080\">│</span> <span style=\"color: #008000; text-decoration-color: #008000\">│</span> <span style=\"color: #7fbf7f; text-decoration-color: #7fbf7f\">│   </span><span style=\"font-weight: bold\">&lt;</span><span style=\"color: #ff00ff; text-decoration-color: #ff00ff; font-weight: bold\">socialgene.base.molbio.Domain</span><span style=\"color: #000000; text-decoration-color: #000000\"> object at </span><span style=\"color: #008080; text-decoration-color: #008080; font-weight: bold\">0x7efd90275af0</span><span style=\"font-weight: bold\">&gt;</span>, <span style=\"color: #008000; text-decoration-color: #008000\">│</span> <span style=\"color: #000080; text-decoration-color: #000080\">│</span>\n",
                            "<span style=\"color: #000080; text-decoration-color: #000080\">│</span> <span style=\"color: #008000; text-decoration-color: #008000\">│</span> <span style=\"color: #7fbf7f; text-decoration-color: #7fbf7f\">│   </span><span style=\"font-weight: bold\">&lt;</span><span style=\"color: #ff00ff; text-decoration-color: #ff00ff; font-weight: bold\">socialgene.base.molbio.Domain</span><span style=\"color: #000000; text-decoration-color: #000000\"> object at </span><span style=\"color: #008080; text-decoration-color: #008080; font-weight: bold\">0x7efd902759d0</span><span style=\"font-weight: bold\">&gt;</span>, <span style=\"color: #008000; text-decoration-color: #008000\">│</span> <span style=\"color: #000080; text-decoration-color: #000080\">│</span>\n",
                            "<span style=\"color: #000080; text-decoration-color: #000080\">│</span> <span style=\"color: #008000; text-decoration-color: #008000\">│</span> <span style=\"color: #7fbf7f; text-decoration-color: #7fbf7f\">│   </span><span style=\"font-weight: bold\">&lt;</span><span style=\"color: #ff00ff; text-decoration-color: #ff00ff; font-weight: bold\">socialgene.base.molbio.Domain</span><span style=\"color: #000000; text-decoration-color: #000000\"> object at </span><span style=\"color: #008080; text-decoration-color: #008080; font-weight: bold\">0x7efd90275e50</span><span style=\"font-weight: bold\">&gt;</span>, <span style=\"color: #008000; text-decoration-color: #008000\">│</span> <span style=\"color: #000080; text-decoration-color: #000080\">│</span>\n",
                            "<span style=\"color: #000080; text-decoration-color: #000080\">│</span> <span style=\"color: #008000; text-decoration-color: #008000\">│</span> <span style=\"color: #7fbf7f; text-decoration-color: #7fbf7f\">│   </span><span style=\"font-weight: bold\">&lt;</span><span style=\"color: #ff00ff; text-decoration-color: #ff00ff; font-weight: bold\">socialgene.base.molbio.Domain</span><span style=\"color: #000000; text-decoration-color: #000000\"> object at </span><span style=\"color: #008080; text-decoration-color: #008080; font-weight: bold\">0x7efd90275b80</span><span style=\"font-weight: bold\">&gt;</span>, <span style=\"color: #008000; text-decoration-color: #008000\">│</span> <span style=\"color: #000080; text-decoration-color: #000080\">│</span>\n",
                            "<span style=\"color: #000080; text-decoration-color: #000080\">│</span> <span style=\"color: #008000; text-decoration-color: #008000\">│</span> <span style=\"color: #7fbf7f; text-decoration-color: #7fbf7f\">│   </span><span style=\"color: #808000; text-decoration-color: #808000\">...</span> +<span style=\"color: #008080; text-decoration-color: #008080; font-weight: bold\">140</span>                                                  <span style=\"color: #008000; text-decoration-color: #008000\">│</span> <span style=\"color: #000080; text-decoration-color: #000080\">│</span>\n",
                            "<span style=\"color: #000080; text-decoration-color: #000080\">│</span> <span style=\"color: #008000; text-decoration-color: #008000\">│</span> <span style=\"font-weight: bold\">]</span>                                                             <span style=\"color: #008000; text-decoration-color: #008000\">│</span> <span style=\"color: #000080; text-decoration-color: #000080\">│</span>\n",
                            "<span style=\"color: #000080; text-decoration-color: #000080\">│</span> <span style=\"color: #008000; text-decoration-color: #008000\">╰───────────────────────────────────────────────────────────────╯</span> <span style=\"color: #000080; text-decoration-color: #000080\">│</span>\n",
                            "<span style=\"color: #000080; text-decoration-color: #000080\">│</span>                                                                   <span style=\"color: #000080; text-decoration-color: #000080\">│</span>\n",
                            "<span style=\"color: #000080; text-decoration-color: #000080\">│</span> <span style=\"color: #008080; text-decoration-color: #008080; font-weight: bold\">36</span><span style=\"font-style: italic\"> attribute(s) not shown.</span> Run <span style=\"color: #800080; text-decoration-color: #800080; font-weight: bold\">inspect</span><span style=\"font-weight: bold\">(</span>inspect<span style=\"font-weight: bold\">)</span> for options.      <span style=\"color: #000080; text-decoration-color: #000080\">│</span>\n",
                            "<span style=\"color: #000080; text-decoration-color: #000080\">╰───────────────────────────────────────────────────────────────────╯</span>\n",
                            "</pre>\n"
                        ],
                        "text/plain": [
                            "\u001b[34m╭─\u001b[0m\u001b[34m──────────────────────── \u001b[0m\u001b[1;34m<\u001b[0m\u001b[1;95mclass\u001b[0m\u001b[39m \u001b[0m\u001b[32m'list'\u001b[0m\u001b[1;34m>\u001b[0m\u001b[34m ─────────────────────────\u001b[0m\u001b[34m─╮\u001b[0m\n",
                            "\u001b[34m│\u001b[0m \u001b[36mBuilt-in mutable sequence.\u001b[0m                                        \u001b[34m│\u001b[0m\n",
                            "\u001b[34m│\u001b[0m                                                                   \u001b[34m│\u001b[0m\n",
                            "\u001b[34m│\u001b[0m \u001b[32m╭───────────────────────────────────────────────────────────────╮\u001b[0m \u001b[34m│\u001b[0m\n",
                            "\u001b[34m│\u001b[0m \u001b[32m│\u001b[0m \u001b[1m[\u001b[0m                                                             \u001b[32m│\u001b[0m \u001b[34m│\u001b[0m\n",
                            "\u001b[34m│\u001b[0m \u001b[32m│\u001b[0m \u001b[2;32m│   \u001b[0m\u001b[1m<\u001b[0m\u001b[1;95msocialgene.base.molbio.Domain\u001b[0m\u001b[39m object at \u001b[0m\u001b[1;36m0x7efd902d5160\u001b[0m\u001b[1m>\u001b[0m, \u001b[32m│\u001b[0m \u001b[34m│\u001b[0m\n",
                            "\u001b[34m│\u001b[0m \u001b[32m│\u001b[0m \u001b[2;32m│   \u001b[0m\u001b[1m<\u001b[0m\u001b[1;95msocialgene.base.molbio.Domain\u001b[0m\u001b[39m object at \u001b[0m\u001b[1;36m0x7efd90275a60\u001b[0m\u001b[1m>\u001b[0m, \u001b[32m│\u001b[0m \u001b[34m│\u001b[0m\n",
                            "\u001b[34m│\u001b[0m \u001b[32m│\u001b[0m \u001b[2;32m│   \u001b[0m\u001b[1m<\u001b[0m\u001b[1;95msocialgene.base.molbio.Domain\u001b[0m\u001b[39m object at \u001b[0m\u001b[1;36m0x7efd90275c10\u001b[0m\u001b[1m>\u001b[0m, \u001b[32m│\u001b[0m \u001b[34m│\u001b[0m\n",
                            "\u001b[34m│\u001b[0m \u001b[32m│\u001b[0m \u001b[2;32m│   \u001b[0m\u001b[1m<\u001b[0m\u001b[1;95msocialgene.base.molbio.Domain\u001b[0m\u001b[39m object at \u001b[0m\u001b[1;36m0x7efd90275ee0\u001b[0m\u001b[1m>\u001b[0m, \u001b[32m│\u001b[0m \u001b[34m│\u001b[0m\n",
                            "\u001b[34m│\u001b[0m \u001b[32m│\u001b[0m \u001b[2;32m│   \u001b[0m\u001b[1m<\u001b[0m\u001b[1;95msocialgene.base.molbio.Domain\u001b[0m\u001b[39m object at \u001b[0m\u001b[1;36m0x7efd90275ca0\u001b[0m\u001b[1m>\u001b[0m, \u001b[32m│\u001b[0m \u001b[34m│\u001b[0m\n",
                            "\u001b[34m│\u001b[0m \u001b[32m│\u001b[0m \u001b[2;32m│   \u001b[0m\u001b[1m<\u001b[0m\u001b[1;95msocialgene.base.molbio.Domain\u001b[0m\u001b[39m object at \u001b[0m\u001b[1;36m0x7efd90275f70\u001b[0m\u001b[1m>\u001b[0m, \u001b[32m│\u001b[0m \u001b[34m│\u001b[0m\n",
                            "\u001b[34m│\u001b[0m \u001b[32m│\u001b[0m \u001b[2;32m│   \u001b[0m\u001b[1m<\u001b[0m\u001b[1;95msocialgene.base.molbio.Domain\u001b[0m\u001b[39m object at \u001b[0m\u001b[1;36m0x7efd90275af0\u001b[0m\u001b[1m>\u001b[0m, \u001b[32m│\u001b[0m \u001b[34m│\u001b[0m\n",
                            "\u001b[34m│\u001b[0m \u001b[32m│\u001b[0m \u001b[2;32m│   \u001b[0m\u001b[1m<\u001b[0m\u001b[1;95msocialgene.base.molbio.Domain\u001b[0m\u001b[39m object at \u001b[0m\u001b[1;36m0x7efd902759d0\u001b[0m\u001b[1m>\u001b[0m, \u001b[32m│\u001b[0m \u001b[34m│\u001b[0m\n",
                            "\u001b[34m│\u001b[0m \u001b[32m│\u001b[0m \u001b[2;32m│   \u001b[0m\u001b[1m<\u001b[0m\u001b[1;95msocialgene.base.molbio.Domain\u001b[0m\u001b[39m object at \u001b[0m\u001b[1;36m0x7efd90275e50\u001b[0m\u001b[1m>\u001b[0m, \u001b[32m│\u001b[0m \u001b[34m│\u001b[0m\n",
                            "\u001b[34m│\u001b[0m \u001b[32m│\u001b[0m \u001b[2;32m│   \u001b[0m\u001b[1m<\u001b[0m\u001b[1;95msocialgene.base.molbio.Domain\u001b[0m\u001b[39m object at \u001b[0m\u001b[1;36m0x7efd90275b80\u001b[0m\u001b[1m>\u001b[0m, \u001b[32m│\u001b[0m \u001b[34m│\u001b[0m\n",
                            "\u001b[34m│\u001b[0m \u001b[32m│\u001b[0m \u001b[2;32m│   \u001b[0m\u001b[33m...\u001b[0m +\u001b[1;36m140\u001b[0m                                                  \u001b[32m│\u001b[0m \u001b[34m│\u001b[0m\n",
                            "\u001b[34m│\u001b[0m \u001b[32m│\u001b[0m \u001b[1m]\u001b[0m                                                             \u001b[32m│\u001b[0m \u001b[34m│\u001b[0m\n",
                            "\u001b[34m│\u001b[0m \u001b[32m╰───────────────────────────────────────────────────────────────╯\u001b[0m \u001b[34m│\u001b[0m\n",
                            "\u001b[34m│\u001b[0m                                                                   \u001b[34m│\u001b[0m\n",
                            "\u001b[34m│\u001b[0m \u001b[1;36m36\u001b[0m\u001b[3m attribute(s) not shown.\u001b[0m Run \u001b[1;35minspect\u001b[0m\u001b[1m(\u001b[0minspect\u001b[1m)\u001b[0m for options.      \u001b[34m│\u001b[0m\n",
                            "\u001b[34m╰───────────────────────────────────────────────────────────────────╯\u001b[0m\n"
                        ]
                    },
                    "metadata": {},
                    "output_type": "display_data"
                }
            ],
            "source": [
                "inspect(sps_object.input_sg_object.proteins[\"l0XEibBqir1EE_0-MYQGaxObU8G5_xrk\"].domains)"
            ]
        },
        {
            "cell_type": "code",
            "execution_count": 56,
            "metadata": {},
            "outputs": [
                {
                    "data": {
                        "text/html": [
                            "<pre style=\"white-space:pre;overflow-x:auto;line-height:normal;font-family:Menlo,'DejaVu Sans Mono',consolas,'Courier New',monospace\"><span style=\"color: #000080; text-decoration-color: #000080\">╭─────────── </span><span style=\"color: #000080; text-decoration-color: #000080; font-weight: bold\">&lt;</span><span style=\"color: #ff00ff; text-decoration-color: #ff00ff; font-weight: bold\">class</span><span style=\"color: #000000; text-decoration-color: #000000\"> </span><span style=\"color: #008000; text-decoration-color: #008000\">'socialgene.base.molbio.Domain'</span><span style=\"color: #000080; text-decoration-color: #000080; font-weight: bold\">&gt;</span><span style=\"color: #000080; text-decoration-color: #000080\"> ───────────╮</span>\n",
                            "<span style=\"color: #000080; text-decoration-color: #000080\">│</span> <span style=\"color: #008080; text-decoration-color: #008080\">Class for holding information about a domain/motif annotation</span> <span style=\"color: #000080; text-decoration-color: #000080\">│</span>\n",
                            "<span style=\"color: #000080; text-decoration-color: #000080\">│</span>                                                               <span style=\"color: #000080; text-decoration-color: #000080\">│</span>\n",
                            "<span style=\"color: #000080; text-decoration-color: #000080\">│</span> <span style=\"color: #008000; text-decoration-color: #008000\">╭───────────────────────────────────────────────────────────╮</span> <span style=\"color: #000080; text-decoration-color: #000080\">│</span>\n",
                            "<span style=\"color: #000080; text-decoration-color: #000080\">│</span> <span style=\"color: #008000; text-decoration-color: #008000\">│</span> <span style=\"font-weight: bold\">&lt;</span><span style=\"color: #ff00ff; text-decoration-color: #ff00ff; font-weight: bold\">socialgene.base.molbio.Domain</span><span style=\"color: #000000; text-decoration-color: #000000\"> object at </span><span style=\"color: #008080; text-decoration-color: #008080; font-weight: bold\">0x7efd902d5160</span><span style=\"font-weight: bold\">&gt;</span>  <span style=\"color: #008000; text-decoration-color: #008000\">│</span> <span style=\"color: #000080; text-decoration-color: #000080\">│</span>\n",
                            "<span style=\"color: #000080; text-decoration-color: #000080\">│</span> <span style=\"color: #008000; text-decoration-color: #008000\">╰───────────────────────────────────────────────────────────╯</span> <span style=\"color: #000080; text-decoration-color: #000080\">│</span>\n",
                            "<span style=\"color: #000080; text-decoration-color: #000080\">│</span>                                                               <span style=\"color: #000080; text-decoration-color: #000080\">│</span>\n",
                            "<span style=\"color: #000080; text-decoration-color: #000080\">│</span>       <span style=\"color: #808000; text-decoration-color: #808000; font-style: italic\">c_evalue</span> = <span style=\"color: #008080; text-decoration-color: #008080; font-weight: bold\">1.445362458048399e-22</span>                        <span style=\"color: #000080; text-decoration-color: #000080\">│</span>\n",
                            "<span style=\"color: #000080; text-decoration-color: #000080\">│</span>    <span style=\"color: #808000; text-decoration-color: #808000; font-style: italic\">domain_bias</span> = <span style=\"color: #008080; text-decoration-color: #008080; font-weight: bold\">0.0</span>                                          <span style=\"color: #000080; text-decoration-color: #000080\">│</span>\n",
                            "<span style=\"color: #000080; text-decoration-color: #000080\">│</span>   <span style=\"color: #808000; text-decoration-color: #808000; font-style: italic\">domain_score</span> = <span style=\"color: #008080; text-decoration-color: #008080; font-weight: bold\">66.48263549804688</span>                            <span style=\"color: #000080; text-decoration-color: #000080\">│</span>\n",
                            "<span style=\"color: #000080; text-decoration-color: #000080\">│</span>       <span style=\"color: #808000; text-decoration-color: #808000; font-style: italic\">env_from</span> = <span style=\"color: #008080; text-decoration-color: #008080; font-weight: bold\">2207</span>                                         <span style=\"color: #000080; text-decoration-color: #000080\">│</span>\n",
                            "<span style=\"color: #000080; text-decoration-color: #000080\">│</span>         <span style=\"color: #808000; text-decoration-color: #808000; font-style: italic\">env_to</span> = <span style=\"color: #008080; text-decoration-color: #008080; font-weight: bold\">2429</span>                                         <span style=\"color: #000080; text-decoration-color: #000080\">│</span>\n",
                            "<span style=\"color: #000080; text-decoration-color: #000080\">│</span> <span style=\"color: #808000; text-decoration-color: #808000; font-style: italic\">seq_prof_score</span> = <span style=\"color: #008080; text-decoration-color: #008080; font-weight: bold\">56.98591477752095</span>                            <span style=\"color: #000080; text-decoration-color: #000080\">│</span>\n",
                            "<span style=\"color: #000080; text-decoration-color: #000080\">│</span>        <span style=\"color: #808000; text-decoration-color: #808000; font-style: italic\">hash_id</span> = <span style=\"color: #008000; text-decoration-color: #008000\">'qtnf2MTnCWbo8bkRPzQ2ifkVfyaaEi6B'</span>           <span style=\"color: #000080; text-decoration-color: #000080\">│</span>\n",
                            "<span style=\"color: #000080; text-decoration-color: #000080\">│</span>       <span style=\"color: #808000; text-decoration-color: #808000; font-style: italic\">hit_bias</span> = <span style=\"color: #008080; text-decoration-color: #008080; font-weight: bold\">0.0</span>                                          <span style=\"color: #000080; text-decoration-color: #000080\">│</span>\n",
                            "<span style=\"color: #000080; text-decoration-color: #000080\">│</span>       <span style=\"color: #808000; text-decoration-color: #808000; font-style: italic\">hmm_from</span> = <span style=\"color: #008080; text-decoration-color: #008080; font-weight: bold\">3</span>                                            <span style=\"color: #000080; text-decoration-color: #000080\">│</span>\n",
                            "<span style=\"color: #000080; text-decoration-color: #000080\">│</span>         <span style=\"color: #808000; text-decoration-color: #808000; font-style: italic\">hmm_to</span> = <span style=\"color: #008080; text-decoration-color: #008080; font-weight: bold\">162</span>                                          <span style=\"color: #000080; text-decoration-color: #000080\">│</span>\n",
                            "<span style=\"color: #000080; text-decoration-color: #000080\">│</span>       <span style=\"color: #808000; text-decoration-color: #808000; font-style: italic\">i_evalue</span> = <span style=\"color: #008080; text-decoration-color: #008080; font-weight: bold\">1.445362458048399e-14</span>                        <span style=\"color: #000080; text-decoration-color: #000080\">│</span>\n",
                            "<span style=\"color: #000080; text-decoration-color: #000080\">│</span>    <span style=\"color: #808000; text-decoration-color: #808000; font-style: italic\">ali_from</span> = <span style=\"color: #008080; text-decoration-color: #008080; font-weight: bold\">2209</span>                                         <span style=\"color: #000080; text-decoration-color: #000080\">│</span>\n",
                            "<span style=\"color: #000080; text-decoration-color: #000080\">│</span>      <span style=\"color: #808000; text-decoration-color: #808000; font-style: italic\">ali_to</span> = <span style=\"color: #008080; text-decoration-color: #008080; font-weight: bold\">2367</span>                                         <span style=\"color: #000080; text-decoration-color: #000080\">│</span>\n",
                            "<span style=\"color: #000080; text-decoration-color: #000080\">╰───────────────────────────────────────────────────────────────╯</span>\n",
                            "</pre>\n"
                        ],
                        "text/plain": [
                            "\u001b[34m╭─\u001b[0m\u001b[34m────────── \u001b[0m\u001b[1;34m<\u001b[0m\u001b[1;95mclass\u001b[0m\u001b[39m \u001b[0m\u001b[32m'socialgene.base.molbio.Domain'\u001b[0m\u001b[1;34m>\u001b[0m\u001b[34m ──────────\u001b[0m\u001b[34m─╮\u001b[0m\n",
                            "\u001b[34m│\u001b[0m \u001b[36mClass for holding information about a domain/motif annotation\u001b[0m \u001b[34m│\u001b[0m\n",
                            "\u001b[34m│\u001b[0m                                                               \u001b[34m│\u001b[0m\n",
                            "\u001b[34m│\u001b[0m \u001b[32m╭───────────────────────────────────────────────────────────╮\u001b[0m \u001b[34m│\u001b[0m\n",
                            "\u001b[34m│\u001b[0m \u001b[32m│\u001b[0m \u001b[1m<\u001b[0m\u001b[1;95msocialgene.base.molbio.Domain\u001b[0m\u001b[39m object at \u001b[0m\u001b[1;36m0x7efd902d5160\u001b[0m\u001b[1m>\u001b[0m  \u001b[32m│\u001b[0m \u001b[34m│\u001b[0m\n",
                            "\u001b[34m│\u001b[0m \u001b[32m╰───────────────────────────────────────────────────────────╯\u001b[0m \u001b[34m│\u001b[0m\n",
                            "\u001b[34m│\u001b[0m                                                               \u001b[34m│\u001b[0m\n",
                            "\u001b[34m│\u001b[0m       \u001b[3;33mc_evalue\u001b[0m = \u001b[1;36m1.445362458048399e-22\u001b[0m                        \u001b[34m│\u001b[0m\n",
                            "\u001b[34m│\u001b[0m    \u001b[3;33mdomain_bias\u001b[0m = \u001b[1;36m0.0\u001b[0m                                          \u001b[34m│\u001b[0m\n",
                            "\u001b[34m│\u001b[0m   \u001b[3;33mdomain_score\u001b[0m = \u001b[1;36m66.48263549804688\u001b[0m                            \u001b[34m│\u001b[0m\n",
                            "\u001b[34m│\u001b[0m       \u001b[3;33menv_from\u001b[0m = \u001b[1;36m2207\u001b[0m                                         \u001b[34m│\u001b[0m\n",
                            "\u001b[34m│\u001b[0m         \u001b[3;33menv_to\u001b[0m = \u001b[1;36m2429\u001b[0m                                         \u001b[34m│\u001b[0m\n",
                            "\u001b[34m│\u001b[0m \u001b[3;33mseq_prof_score\u001b[0m = \u001b[1;36m56.98591477752095\u001b[0m                            \u001b[34m│\u001b[0m\n",
                            "\u001b[34m│\u001b[0m        \u001b[3;33mhash_id\u001b[0m = \u001b[32m'qtnf2MTnCWbo8bkRPzQ2ifkVfyaaEi6B'\u001b[0m           \u001b[34m│\u001b[0m\n",
                            "\u001b[34m│\u001b[0m       \u001b[3;33mhit_bias\u001b[0m = \u001b[1;36m0.0\u001b[0m                                          \u001b[34m│\u001b[0m\n",
                            "\u001b[34m│\u001b[0m       \u001b[3;33mhmm_from\u001b[0m = \u001b[1;36m3\u001b[0m                                            \u001b[34m│\u001b[0m\n",
                            "\u001b[34m│\u001b[0m         \u001b[3;33mhmm_to\u001b[0m = \u001b[1;36m162\u001b[0m                                          \u001b[34m│\u001b[0m\n",
                            "\u001b[34m│\u001b[0m       \u001b[3;33mi_evalue\u001b[0m = \u001b[1;36m1.445362458048399e-14\u001b[0m                        \u001b[34m│\u001b[0m\n",
                            "\u001b[34m│\u001b[0m    \u001b[3;33mali_from\u001b[0m = \u001b[1;36m2209\u001b[0m                                         \u001b[34m│\u001b[0m\n",
                            "\u001b[34m│\u001b[0m      \u001b[3;33mali_to\u001b[0m = \u001b[1;36m2367\u001b[0m                                         \u001b[34m│\u001b[0m\n",
                            "\u001b[34m╰───────────────────────────────────────────────────────────────╯\u001b[0m\n"
                        ]
                    },
                    "metadata": {},
                    "output_type": "display_data"
                }
            ],
            "source": [
                "inspect(sps_object.input_sg_object.proteins[\"l0XEibBqir1EE_0-MYQGaxObU8G5_xrk\"].domains[0])"
            ]
        },
        {
            "cell_type": "markdown",
            "metadata": {},
            "source": [
                "Search Neo4j for proteins containing those HMMs"
            ]
        },
        {
            "cell_type": "code",
            "execution_count": 58,
            "metadata": {},
            "outputs": [
                {
                    "name": "stderr",
                    "output_type": "stream",
                    "text": [
                        "/home/chase/Documents/socialgene/socialgene/src/socialgene/neo4j/connections.py:36: ExperimentalWarning: The configuration may change in the future.\n",
                        "  self.driver.verify_connectivity()\n"
                    ]
                },
                {
                    "ename": "CypherSyntaxError",
                    "evalue": "{code: Neo.ClientError.Statement.SyntaxError} {message: Unknown function 'gds.similarity.jaccard' (line 14, column 27 (offset: 860))\n\"WITH `input_protein_hash` AS `input_protein_hash`, `prot1` AS `prot1`\"\n                           ^}",
                    "output_type": "error",
                    "traceback": [
                        "\u001b[0;31m---------------------------------------------------------------------------\u001b[0m",
                        "\u001b[0;31mCypherSyntaxError\u001b[0m                         Traceback (most recent call last)",
                        "\u001b[1;32m/home/chase/Documents/socialgene/docs/python/jupyter/single_protein_search.ipynb Cell 16'\u001b[0m in \u001b[0;36m<cell line: 1>\u001b[0;34m()\u001b[0m\n\u001b[0;32m----> <a href='vscode-notebook-cell:/home/chase/Documents/socialgene/docs/python/jupyter/single_protein_search.ipynb#ch0000010?line=0'>1</a>\u001b[0m sps_object\u001b[39m.\u001b[39;49mquery_neo4j_for_related_proteins()\n",
                        "File \u001b[0;32m~/Documents/socialgene/socialgene/src/socialgene/findmybgc/findmybgc.py:44\u001b[0m, in \u001b[0;36mFindMyBGC.query_neo4j_for_related_proteins\u001b[0;34m(self)\u001b[0m\n\u001b[1;32m     <a href='file:///home/chase/Documents/socialgene/socialgene/src/socialgene/findmybgc/findmybgc.py?line=38'>39</a>\u001b[0m input_data \u001b[39m=\u001b[39m [\n\u001b[1;32m     <a href='file:///home/chase/Documents/socialgene/socialgene/src/socialgene/findmybgc/findmybgc.py?line=39'>40</a>\u001b[0m     {\u001b[39m\"\u001b[39m\u001b[39mprot\u001b[39m\u001b[39m\"\u001b[39m: k, \u001b[39m\"\u001b[39m\u001b[39mdomains\u001b[39m\u001b[39m\"\u001b[39m: v\u001b[39m.\u001b[39mget_domain_vector(minimal\u001b[39m=\u001b[39m\u001b[39mTrue\u001b[39;00m)}\n\u001b[1;32m     <a href='file:///home/chase/Documents/socialgene/socialgene/src/socialgene/findmybgc/findmybgc.py?line=40'>41</a>\u001b[0m     \u001b[39mfor\u001b[39;00m k, v \u001b[39min\u001b[39;00m \u001b[39mself\u001b[39m\u001b[39m.\u001b[39minput_sg_object\u001b[39m.\u001b[39mproteins\u001b[39m.\u001b[39mitems()\n\u001b[1;32m     <a href='file:///home/chase/Documents/socialgene/socialgene/src/socialgene/findmybgc/findmybgc.py?line=41'>42</a>\u001b[0m ]\n\u001b[1;32m     <a href='file:///home/chase/Documents/socialgene/socialgene/src/socialgene/findmybgc/findmybgc.py?line=42'>43</a>\u001b[0m \u001b[39m# TODO: `self.neo4j_results` can be  local, was jus used for debugging\u001b[39;00m\n\u001b[0;32m---> <a href='file:///home/chase/Documents/socialgene/socialgene/src/socialgene/findmybgc/findmybgc.py?line=43'>44</a>\u001b[0m \u001b[39mself\u001b[39m\u001b[39m.\u001b[39mneo4j_results \u001b[39m=\u001b[39m queries\u001b[39m.\u001b[39;49mfind_similar_bgc3(input_data)\n\u001b[1;32m     <a href='file:///home/chase/Documents/socialgene/socialgene/src/socialgene/findmybgc/findmybgc.py?line=44'>45</a>\u001b[0m \u001b[39mfor\u001b[39;00m i \u001b[39min\u001b[39;00m \u001b[39mself\u001b[39m\u001b[39m.\u001b[39mneo4j_results\u001b[39m.\u001b[39mresult:\n\u001b[1;32m     <a href='file:///home/chase/Documents/socialgene/socialgene/src/socialgene/findmybgc/findmybgc.py?line=45'>46</a>\u001b[0m     \u001b[39mself\u001b[39m\u001b[39m.\u001b[39mquery_and_match[i[\u001b[39m\"\u001b[39m\u001b[39mquery\u001b[39m\u001b[39m\"\u001b[39m]]\u001b[39m.\u001b[39madd(i[\u001b[39m\"\u001b[39m\u001b[39mresult\u001b[39m\u001b[39m\"\u001b[39m])\n",
                        "File \u001b[0;32m~/Documents/socialgene/socialgene/src/socialgene/neo4j/queries.py:554\u001b[0m, in \u001b[0;36mfind_similar_bgc3.__init__\u001b[0;34m(self, param)\u001b[0m\n\u001b[1;32m    <a href='file:///home/chase/Documents/socialgene/socialgene/src/socialgene/neo4j/queries.py?line=536'>537</a>\u001b[0m \u001b[39mself\u001b[39m\u001b[39m.\u001b[39mparam \u001b[39m=\u001b[39m param\n\u001b[1;32m    <a href='file:///home/chase/Documents/socialgene/socialgene/src/socialgene/neo4j/queries.py?line=537'>538</a>\u001b[0m \u001b[39mself\u001b[39m\u001b[39m.\u001b[39mcypher_query \u001b[39m=\u001b[39m \u001b[39m\"\"\"\u001b[39m\n\u001b[1;32m    <a href='file:///home/chase/Documents/socialgene/socialgene/src/socialgene/neo4j/queries.py?line=538'>539</a>\u001b[0m \u001b[39mWITH $param AS input_proteins\u001b[39m\n\u001b[1;32m    <a href='file:///home/chase/Documents/socialgene/socialgene/src/socialgene/neo4j/queries.py?line=539'>540</a>\u001b[0m \u001b[39mwith input_proteins\u001b[39m\n\u001b[0;32m   (...)\u001b[0m\n\u001b[1;32m    <a href='file:///home/chase/Documents/socialgene/socialgene/src/socialgene/neo4j/queries.py?line=551'>552</a>\u001b[0m \u001b[39m            return input_protein_hash as query, prot1.id as result\u001b[39m\n\u001b[1;32m    <a href='file:///home/chase/Documents/socialgene/socialgene/src/socialgene/neo4j/queries.py?line=552'>553</a>\u001b[0m \u001b[39m\u001b[39m\u001b[39m\"\"\"\u001b[39m\n\u001b[0;32m--> <a href='file:///home/chase/Documents/socialgene/socialgene/src/socialgene/neo4j/queries.py?line=553'>554</a>\u001b[0m \u001b[39mself\u001b[39m\u001b[39m.\u001b[39mresult \u001b[39m=\u001b[39m \u001b[39mself\u001b[39;49m\u001b[39m.\u001b[39;49mquery_neo4j_return_json()\n",
                        "File \u001b[0;32m~/Documents/socialgene/socialgene/src/socialgene/neo4j/connections.py:64\u001b[0m, in \u001b[0;36mQuery.query_neo4j_return_json\u001b[0;34m(self)\u001b[0m\n\u001b[1;32m     <a href='file:///home/chase/Documents/socialgene/socialgene/src/socialgene/neo4j/connections.py?line=60'>61</a>\u001b[0m \u001b[39m# grab the the neo4j connection\u001b[39;00m\n\u001b[1;32m     <a href='file:///home/chase/Documents/socialgene/socialgene/src/socialgene/neo4j/connections.py?line=61'>62</a>\u001b[0m \u001b[39mwith\u001b[39;00m Neo4j() \u001b[39mas\u001b[39;00m con:\n\u001b[1;32m     <a href='file:///home/chase/Documents/socialgene/socialgene/src/socialgene/neo4j/connections.py?line=62'>63</a>\u001b[0m     \u001b[39m# make the query against the db\u001b[39;00m\n\u001b[0;32m---> <a href='file:///home/chase/Documents/socialgene/socialgene/src/socialgene/neo4j/connections.py?line=63'>64</a>\u001b[0m     results \u001b[39m=\u001b[39m con\u001b[39m.\u001b[39;49mread_transaction(\n\u001b[1;32m     <a href='file:///home/chase/Documents/socialgene/socialgene/src/socialgene/neo4j/connections.py?line=64'>65</a>\u001b[0m         \u001b[39mlambda\u001b[39;49;00m tx: tx\u001b[39m.\u001b[39;49mrun(\u001b[39mself\u001b[39;49m\u001b[39m.\u001b[39;49mcypher_query, param\u001b[39m=\u001b[39;49m\u001b[39mself\u001b[39;49m\u001b[39m.\u001b[39;49mparam)\u001b[39m.\u001b[39;49mdata()\n\u001b[1;32m     <a href='file:///home/chase/Documents/socialgene/socialgene/src/socialgene/neo4j/connections.py?line=65'>66</a>\u001b[0m     )\n\u001b[1;32m     <a href='file:///home/chase/Documents/socialgene/socialgene/src/socialgene/neo4j/connections.py?line=66'>67</a>\u001b[0m \u001b[39mreturn\u001b[39;00m results\n",
                        "File \u001b[0;32m~/miniconda3/envs/socialgene/lib/python3.9/site-packages/neo4j/work/simple.py:396\u001b[0m, in \u001b[0;36mSession.read_transaction\u001b[0;34m(self, transaction_function, *args, **kwargs)\u001b[0m\n\u001b[1;32m    <a href='file:///home/chase/miniconda3/envs/socialgene/lib/python3.9/site-packages/neo4j/work/simple.py?line=355'>356</a>\u001b[0m \u001b[39mdef\u001b[39;00m \u001b[39mread_transaction\u001b[39m(\u001b[39mself\u001b[39m, transaction_function, \u001b[39m*\u001b[39margs, \u001b[39m*\u001b[39m\u001b[39m*\u001b[39mkwargs):\n\u001b[1;32m    <a href='file:///home/chase/miniconda3/envs/socialgene/lib/python3.9/site-packages/neo4j/work/simple.py?line=356'>357</a>\u001b[0m     \u001b[39m\"\"\"Execute a unit of work in a managed read transaction.\u001b[39;00m\n\u001b[1;32m    <a href='file:///home/chase/miniconda3/envs/socialgene/lib/python3.9/site-packages/neo4j/work/simple.py?line=357'>358</a>\u001b[0m \u001b[39m    This transaction will automatically be committed unless an exception is thrown during query execution or by the user code.\u001b[39;00m\n\u001b[1;32m    <a href='file:///home/chase/miniconda3/envs/socialgene/lib/python3.9/site-packages/neo4j/work/simple.py?line=358'>359</a>\u001b[0m \u001b[39m    Note, that this function perform retries and that the supplied `transaction_function` might get invoked more than once.\u001b[39;00m\n\u001b[0;32m   (...)\u001b[0m\n\u001b[1;32m    <a href='file:///home/chase/miniconda3/envs/socialgene/lib/python3.9/site-packages/neo4j/work/simple.py?line=393'>394</a>\u001b[0m \u001b[39m    :return: a result as returned by the given unit of work\u001b[39;00m\n\u001b[1;32m    <a href='file:///home/chase/miniconda3/envs/socialgene/lib/python3.9/site-packages/neo4j/work/simple.py?line=394'>395</a>\u001b[0m \u001b[39m    \"\"\"\u001b[39;00m\n\u001b[0;32m--> <a href='file:///home/chase/miniconda3/envs/socialgene/lib/python3.9/site-packages/neo4j/work/simple.py?line=395'>396</a>\u001b[0m     \u001b[39mreturn\u001b[39;00m \u001b[39mself\u001b[39;49m\u001b[39m.\u001b[39;49m_run_transaction(READ_ACCESS, transaction_function, \u001b[39m*\u001b[39;49margs, \u001b[39m*\u001b[39;49m\u001b[39m*\u001b[39;49mkwargs)\n",
                        "File \u001b[0;32m~/miniconda3/envs/socialgene/lib/python3.9/site-packages/neo4j/work/simple.py:325\u001b[0m, in \u001b[0;36mSession._run_transaction\u001b[0;34m(self, access_mode, transaction_function, *args, **kwargs)\u001b[0m\n\u001b[1;32m    <a href='file:///home/chase/miniconda3/envs/socialgene/lib/python3.9/site-packages/neo4j/work/simple.py?line=322'>323</a>\u001b[0m tx \u001b[39m=\u001b[39m \u001b[39mself\u001b[39m\u001b[39m.\u001b[39m_transaction\n\u001b[1;32m    <a href='file:///home/chase/miniconda3/envs/socialgene/lib/python3.9/site-packages/neo4j/work/simple.py?line=323'>324</a>\u001b[0m \u001b[39mtry\u001b[39;00m:\n\u001b[0;32m--> <a href='file:///home/chase/miniconda3/envs/socialgene/lib/python3.9/site-packages/neo4j/work/simple.py?line=324'>325</a>\u001b[0m     result \u001b[39m=\u001b[39m transaction_function(tx, \u001b[39m*\u001b[39;49margs, \u001b[39m*\u001b[39;49m\u001b[39m*\u001b[39;49mkwargs)\n\u001b[1;32m    <a href='file:///home/chase/miniconda3/envs/socialgene/lib/python3.9/site-packages/neo4j/work/simple.py?line=325'>326</a>\u001b[0m \u001b[39mexcept\u001b[39;00m \u001b[39mException\u001b[39;00m:\n\u001b[1;32m    <a href='file:///home/chase/miniconda3/envs/socialgene/lib/python3.9/site-packages/neo4j/work/simple.py?line=326'>327</a>\u001b[0m     tx\u001b[39m.\u001b[39mclose()\n",
                        "File \u001b[0;32m~/Documents/socialgene/socialgene/src/socialgene/neo4j/connections.py:65\u001b[0m, in \u001b[0;36mQuery.query_neo4j_return_json.<locals>.<lambda>\u001b[0;34m(tx)\u001b[0m\n\u001b[1;32m     <a href='file:///home/chase/Documents/socialgene/socialgene/src/socialgene/neo4j/connections.py?line=60'>61</a>\u001b[0m \u001b[39m# grab the the neo4j connection\u001b[39;00m\n\u001b[1;32m     <a href='file:///home/chase/Documents/socialgene/socialgene/src/socialgene/neo4j/connections.py?line=61'>62</a>\u001b[0m \u001b[39mwith\u001b[39;00m Neo4j() \u001b[39mas\u001b[39;00m con:\n\u001b[1;32m     <a href='file:///home/chase/Documents/socialgene/socialgene/src/socialgene/neo4j/connections.py?line=62'>63</a>\u001b[0m     \u001b[39m# make the query against the db\u001b[39;00m\n\u001b[1;32m     <a href='file:///home/chase/Documents/socialgene/socialgene/src/socialgene/neo4j/connections.py?line=63'>64</a>\u001b[0m     results \u001b[39m=\u001b[39m con\u001b[39m.\u001b[39mread_transaction(\n\u001b[0;32m---> <a href='file:///home/chase/Documents/socialgene/socialgene/src/socialgene/neo4j/connections.py?line=64'>65</a>\u001b[0m         \u001b[39mlambda\u001b[39;00m tx: tx\u001b[39m.\u001b[39;49mrun(\u001b[39mself\u001b[39;49m\u001b[39m.\u001b[39;49mcypher_query, param\u001b[39m=\u001b[39;49m\u001b[39mself\u001b[39;49m\u001b[39m.\u001b[39;49mparam)\u001b[39m.\u001b[39mdata()\n\u001b[1;32m     <a href='file:///home/chase/Documents/socialgene/socialgene/src/socialgene/neo4j/connections.py?line=65'>66</a>\u001b[0m     )\n\u001b[1;32m     <a href='file:///home/chase/Documents/socialgene/socialgene/src/socialgene/neo4j/connections.py?line=66'>67</a>\u001b[0m \u001b[39mreturn\u001b[39;00m results\n",
                        "File \u001b[0;32m~/miniconda3/envs/socialgene/lib/python3.9/site-packages/neo4j/work/transaction.py:137\u001b[0m, in \u001b[0;36mTransaction.run\u001b[0;34m(self, query, parameters, **kwparameters)\u001b[0m\n\u001b[1;32m    <a href='file:///home/chase/miniconda3/envs/socialgene/lib/python3.9/site-packages/neo4j/work/transaction.py?line=129'>130</a>\u001b[0m result \u001b[39m=\u001b[39m Result(\n\u001b[1;32m    <a href='file:///home/chase/miniconda3/envs/socialgene/lib/python3.9/site-packages/neo4j/work/transaction.py?line=130'>131</a>\u001b[0m     \u001b[39mself\u001b[39m\u001b[39m.\u001b[39m_connection, DataHydrator(), \u001b[39mself\u001b[39m\u001b[39m.\u001b[39m_fetch_size,\n\u001b[1;32m    <a href='file:///home/chase/miniconda3/envs/socialgene/lib/python3.9/site-packages/neo4j/work/transaction.py?line=131'>132</a>\u001b[0m     \u001b[39mself\u001b[39m\u001b[39m.\u001b[39m_result_on_closed_handler,\n\u001b[1;32m    <a href='file:///home/chase/miniconda3/envs/socialgene/lib/python3.9/site-packages/neo4j/work/transaction.py?line=132'>133</a>\u001b[0m     \u001b[39mself\u001b[39m\u001b[39m.\u001b[39m_error_handler\n\u001b[1;32m    <a href='file:///home/chase/miniconda3/envs/socialgene/lib/python3.9/site-packages/neo4j/work/transaction.py?line=133'>134</a>\u001b[0m )\n\u001b[1;32m    <a href='file:///home/chase/miniconda3/envs/socialgene/lib/python3.9/site-packages/neo4j/work/transaction.py?line=134'>135</a>\u001b[0m \u001b[39mself\u001b[39m\u001b[39m.\u001b[39m_results\u001b[39m.\u001b[39mappend(result)\n\u001b[0;32m--> <a href='file:///home/chase/miniconda3/envs/socialgene/lib/python3.9/site-packages/neo4j/work/transaction.py?line=136'>137</a>\u001b[0m result\u001b[39m.\u001b[39;49m_tx_ready_run(query, parameters, \u001b[39m*\u001b[39;49m\u001b[39m*\u001b[39;49mkwparameters)\n\u001b[1;32m    <a href='file:///home/chase/miniconda3/envs/socialgene/lib/python3.9/site-packages/neo4j/work/transaction.py?line=138'>139</a>\u001b[0m \u001b[39mreturn\u001b[39;00m result\n",
                        "File \u001b[0;32m~/miniconda3/envs/socialgene/lib/python3.9/site-packages/neo4j/work/result.py:70\u001b[0m, in \u001b[0;36mResult._tx_ready_run\u001b[0;34m(self, query, parameters, **kwparameters)\u001b[0m\n\u001b[1;32m     <a href='file:///home/chase/miniconda3/envs/socialgene/lib/python3.9/site-packages/neo4j/work/result.py?line=65'>66</a>\u001b[0m \u001b[39mdef\u001b[39;00m \u001b[39m_tx_ready_run\u001b[39m(\u001b[39mself\u001b[39m, query, parameters, \u001b[39m*\u001b[39m\u001b[39m*\u001b[39mkwparameters):\n\u001b[1;32m     <a href='file:///home/chase/miniconda3/envs/socialgene/lib/python3.9/site-packages/neo4j/work/result.py?line=66'>67</a>\u001b[0m     \u001b[39m# BEGIN+RUN does not carry any extra on the RUN message.\u001b[39;00m\n\u001b[1;32m     <a href='file:///home/chase/miniconda3/envs/socialgene/lib/python3.9/site-packages/neo4j/work/result.py?line=67'>68</a>\u001b[0m     \u001b[39m# BEGIN {extra}\u001b[39;00m\n\u001b[1;32m     <a href='file:///home/chase/miniconda3/envs/socialgene/lib/python3.9/site-packages/neo4j/work/result.py?line=68'>69</a>\u001b[0m     \u001b[39m# RUN \"query\" {parameters} {extra}\u001b[39;00m\n\u001b[0;32m---> <a href='file:///home/chase/miniconda3/envs/socialgene/lib/python3.9/site-packages/neo4j/work/result.py?line=69'>70</a>\u001b[0m     \u001b[39mself\u001b[39;49m\u001b[39m.\u001b[39;49m_run(query, parameters, \u001b[39mNone\u001b[39;49;00m, \u001b[39mNone\u001b[39;49;00m, \u001b[39mNone\u001b[39;49;00m, \u001b[39mNone\u001b[39;49;00m, \u001b[39m*\u001b[39;49m\u001b[39m*\u001b[39;49mkwparameters)\n",
                        "File \u001b[0;32m~/miniconda3/envs/socialgene/lib/python3.9/site-packages/neo4j/work/result.py:114\u001b[0m, in \u001b[0;36mResult._run\u001b[0;34m(self, query, parameters, db, imp_user, access_mode, bookmarks, **kwparameters)\u001b[0m\n\u001b[1;32m    <a href='file:///home/chase/miniconda3/envs/socialgene/lib/python3.9/site-packages/neo4j/work/result.py?line=111'>112</a>\u001b[0m \u001b[39mself\u001b[39m\u001b[39m.\u001b[39m_pull()\n\u001b[1;32m    <a href='file:///home/chase/miniconda3/envs/socialgene/lib/python3.9/site-packages/neo4j/work/result.py?line=112'>113</a>\u001b[0m \u001b[39mself\u001b[39m\u001b[39m.\u001b[39m_connection\u001b[39m.\u001b[39msend_all()\n\u001b[0;32m--> <a href='file:///home/chase/miniconda3/envs/socialgene/lib/python3.9/site-packages/neo4j/work/result.py?line=113'>114</a>\u001b[0m \u001b[39mself\u001b[39;49m\u001b[39m.\u001b[39;49m_attach()\n",
                        "File \u001b[0;32m~/miniconda3/envs/socialgene/lib/python3.9/site-packages/neo4j/work/result.py:203\u001b[0m, in \u001b[0;36mResult._attach\u001b[0;34m(self)\u001b[0m\n\u001b[1;32m    <a href='file:///home/chase/miniconda3/envs/socialgene/lib/python3.9/site-packages/neo4j/work/result.py?line=200'>201</a>\u001b[0m \u001b[39mif\u001b[39;00m \u001b[39mself\u001b[39m\u001b[39m.\u001b[39m_closed \u001b[39mis\u001b[39;00m \u001b[39mFalse\u001b[39;00m:\n\u001b[1;32m    <a href='file:///home/chase/miniconda3/envs/socialgene/lib/python3.9/site-packages/neo4j/work/result.py?line=201'>202</a>\u001b[0m     \u001b[39mwhile\u001b[39;00m \u001b[39mself\u001b[39m\u001b[39m.\u001b[39m_attached \u001b[39mis\u001b[39;00m \u001b[39mFalse\u001b[39;00m:\n\u001b[0;32m--> <a href='file:///home/chase/miniconda3/envs/socialgene/lib/python3.9/site-packages/neo4j/work/result.py?line=202'>203</a>\u001b[0m         \u001b[39mself\u001b[39;49m\u001b[39m.\u001b[39;49m_connection\u001b[39m.\u001b[39;49mfetch_message()\n",
                        "File \u001b[0;32m~/miniconda3/envs/socialgene/lib/python3.9/site-packages/neo4j/io/_common.py:186\u001b[0m, in \u001b[0;36mConnectionErrorHandler.__getattr__.<locals>.outer.<locals>.inner\u001b[0;34m(*args, **kwargs)\u001b[0m\n\u001b[1;32m    <a href='file:///home/chase/miniconda3/envs/socialgene/lib/python3.9/site-packages/neo4j/io/_common.py?line=183'>184</a>\u001b[0m \u001b[39mdef\u001b[39;00m \u001b[39minner\u001b[39m(\u001b[39m*\u001b[39margs, \u001b[39m*\u001b[39m\u001b[39m*\u001b[39mkwargs):\n\u001b[1;32m    <a href='file:///home/chase/miniconda3/envs/socialgene/lib/python3.9/site-packages/neo4j/io/_common.py?line=184'>185</a>\u001b[0m     \u001b[39mtry\u001b[39;00m:\n\u001b[0;32m--> <a href='file:///home/chase/miniconda3/envs/socialgene/lib/python3.9/site-packages/neo4j/io/_common.py?line=185'>186</a>\u001b[0m         func(\u001b[39m*\u001b[39;49margs, \u001b[39m*\u001b[39;49m\u001b[39m*\u001b[39;49mkwargs)\n\u001b[1;32m    <a href='file:///home/chase/miniconda3/envs/socialgene/lib/python3.9/site-packages/neo4j/io/_common.py?line=186'>187</a>\u001b[0m     \u001b[39mexcept\u001b[39;00m (Neo4jError, ServiceUnavailable, SessionExpired) \u001b[39mas\u001b[39;00m exc:\n\u001b[1;32m    <a href='file:///home/chase/miniconda3/envs/socialgene/lib/python3.9/site-packages/neo4j/io/_common.py?line=187'>188</a>\u001b[0m         \u001b[39mself\u001b[39m\u001b[39m.\u001b[39m__on_error(exc)\n",
                        "File \u001b[0;32m~/miniconda3/envs/socialgene/lib/python3.9/site-packages/neo4j/io/_bolt4.py:309\u001b[0m, in \u001b[0;36mBolt4x0.fetch_message\u001b[0;34m(self)\u001b[0m\n\u001b[1;32m    <a href='file:///home/chase/miniconda3/envs/socialgene/lib/python3.9/site-packages/neo4j/io/_bolt4.py?line=306'>307</a>\u001b[0m \u001b[39mself\u001b[39m\u001b[39m.\u001b[39m_server_state_manager\u001b[39m.\u001b[39mstate \u001b[39m=\u001b[39m ServerStates\u001b[39m.\u001b[39mFAILED\n\u001b[1;32m    <a href='file:///home/chase/miniconda3/envs/socialgene/lib/python3.9/site-packages/neo4j/io/_bolt4.py?line=307'>308</a>\u001b[0m \u001b[39mtry\u001b[39;00m:\n\u001b[0;32m--> <a href='file:///home/chase/miniconda3/envs/socialgene/lib/python3.9/site-packages/neo4j/io/_bolt4.py?line=308'>309</a>\u001b[0m     response\u001b[39m.\u001b[39;49mon_failure(summary_metadata \u001b[39mor\u001b[39;49;00m {})\n\u001b[1;32m    <a href='file:///home/chase/miniconda3/envs/socialgene/lib/python3.9/site-packages/neo4j/io/_bolt4.py?line=309'>310</a>\u001b[0m \u001b[39mexcept\u001b[39;00m (ServiceUnavailable, DatabaseUnavailable):\n\u001b[1;32m    <a href='file:///home/chase/miniconda3/envs/socialgene/lib/python3.9/site-packages/neo4j/io/_bolt4.py?line=310'>311</a>\u001b[0m     \u001b[39mif\u001b[39;00m \u001b[39mself\u001b[39m\u001b[39m.\u001b[39mpool:\n",
                        "File \u001b[0;32m~/miniconda3/envs/socialgene/lib/python3.9/site-packages/neo4j/io/_common.py:244\u001b[0m, in \u001b[0;36mResponse.on_failure\u001b[0;34m(self, metadata)\u001b[0m\n\u001b[1;32m    <a href='file:///home/chase/miniconda3/envs/socialgene/lib/python3.9/site-packages/neo4j/io/_common.py?line=241'>242</a>\u001b[0m \u001b[39mif\u001b[39;00m callable(handler):\n\u001b[1;32m    <a href='file:///home/chase/miniconda3/envs/socialgene/lib/python3.9/site-packages/neo4j/io/_common.py?line=242'>243</a>\u001b[0m     handler()\n\u001b[0;32m--> <a href='file:///home/chase/miniconda3/envs/socialgene/lib/python3.9/site-packages/neo4j/io/_common.py?line=243'>244</a>\u001b[0m \u001b[39mraise\u001b[39;00m Neo4jError\u001b[39m.\u001b[39mhydrate(\u001b[39m*\u001b[39m\u001b[39m*\u001b[39mmetadata)\n",
                        "\u001b[0;31mCypherSyntaxError\u001b[0m: {code: Neo.ClientError.Statement.SyntaxError} {message: Unknown function 'gds.similarity.jaccard' (line 14, column 27 (offset: 860))\n\"WITH `input_protein_hash` AS `input_protein_hash`, `prot1` AS `prot1`\"\n                           ^}"
                    ]
                }
            ],
            "source": [
                "sps_object.query_neo4j_for_related_proteins()"
            ]
        },
        {
            "cell_type": "markdown",
            "metadata": {},
            "source": [
                "Get the HMMs of those proteins (TODO: should be done with previous step)\n",
                "Yeah, TODO: this step also computes all pairwise comparisons between the input protein HMMs and the previously found proteins"
            ]
        },
        {
            "cell_type": "code",
            "execution_count": null,
            "metadata": {},
            "outputs": [
                {
                    "ename": "AttributeError",
                    "evalue": "'SingleProteinSearch' object has no attribute 'query_neo4j_get_hmms_given_protein_ids'",
                    "output_type": "error",
                    "traceback": [
                        "\u001b[0;31m---------------------------------------------------------------------------\u001b[0m",
                        "\u001b[0;31mAttributeError\u001b[0m                            Traceback (most recent call last)",
                        "\u001b[1;32m/home/chase/Documents/socialgene/docs/python/jupyter/single_protein_search.ipynb Cell 17'\u001b[0m in \u001b[0;36m<cell line: 1>\u001b[0;34m()\u001b[0m\n\u001b[0;32m----> <a href='vscode-notebook-cell:/home/chase/Documents/socialgene/docs/python/jupyter/single_protein_search.ipynb#ch0000012?line=0'>1</a>\u001b[0m sps_object\u001b[39m.\u001b[39;49mquery_neo4j_get_hmms_given_protein_ids()\n",
                        "\u001b[0;31mAttributeError\u001b[0m: 'SingleProteinSearch' object has no attribute 'query_neo4j_get_hmms_given_protein_ids'"
                    ]
                }
            ],
            "source": [
                "sps_object.query_neo4j_get_hmms_given_protein_ids()"
            ]
        },
        {
            "cell_type": "markdown",
            "metadata": {},
            "source": [
                "Take the results, find the genomic locations and species info for each found protein, and sort by \"mod_score\""
            ]
        },
        {
            "cell_type": "code",
            "execution_count": null,
            "metadata": {},
            "outputs": [
                {
                    "ename": "",
                    "evalue": "",
                    "output_type": "error",
                    "traceback": [
                        "\u001b[1;31mRunning cells with 'Python 3.9.12 ('socialgene')' requires ipykernel package.\n",
                        "Run the following command to install 'ipykernel' into the Python environment. \n",
                        "Command: 'conda install -n socialgene ipykernel --update-deps --force-reinstall'"
                    ]
                }
            ],
            "source": [
                "sps_object.sg_object.protein_comparison_append_species_and_assemblies()\n",
                "sps_object.sg_object.protein_comparison_sort()\n",
                "sps_object.sg_object.protein_comparison"
            ]
        }
    ],
    "metadata": {
        "interpreter": {
            "hash": "6402fb2de5ecd61f3e4ae57f6ae9c75d83d856dae538381724cccfc7a27a58bc"
        },
        "kernelspec": {
            "display_name": "Python 3.9.0 64-bit ('socialgene': conda)",
            "language": "python",
            "name": "python3"
        },
        "language_info": {
            "codemirror_mode": {
                "name": "ipython",
                "version": 3
            },
            "file_extension": ".py",
            "mimetype": "text/x-python",
            "name": "python",
            "nbconvert_exporter": "python",
            "pygments_lexer": "ipython3",
            "version": "3.9.12"
        },
        "orig_nbformat": 4
    },
    "nbformat": 4,
    "nbformat_minor": 2
}
