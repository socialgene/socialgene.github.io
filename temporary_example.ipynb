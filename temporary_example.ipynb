{
 "cells": [
  {
   "attachments": {},
   "cell_type": "markdown",
   "metadata": {},
   "source": [
    "# Quick example"
   ]
  },
  {
   "attachments": {},
   "cell_type": "markdown",
   "metadata": {},
   "source": [
    "pip install socialgene"
   ]
  },
  {
   "cell_type": "code",
   "execution_count": null,
   "metadata": {},
   "outputs": [],
   "source": [
    "import logging\n",
    "from rich import inspect\n",
    "from socialgene.neo4j.neo4j import GraphDriver\n",
    "from socialgene.base.socialgene import SocialGene\n",
    "from socialgene.config import env_vars\n"
   ]
  },
  {
   "cell_type": "code",
   "execution_count": 2,
   "metadata": {},
   "outputs": [],
   "source": [
    "env_vars[\"NEO4J_URI\"] =\"bolt://localhost:7687\"\n",
    "env_vars[\"NEO4J_PASSWORD\"] = \"test12345\"\n",
    "logging.getLogger(\"neo4j\").setLevel(logging.WARNING)\n",
    "logging.getLogger().setLevel(logging.INFO)"
   ]
  },
  {
   "attachments": {},
   "cell_type": "markdown",
   "metadata": {},
   "source": [
    "Example of a parameterized query.\n",
    "\"Find up to 10 examples of genomes that contain a protein that's annotated by an hmm_accession x and whose isolation source is y. Return various select properties\""
   ]
  },
  {
   "cell_type": "code",
   "execution_count": 3,
   "metadata": {},
   "outputs": [
    {
     "data": {
      "text/html": [
       "<pre style=\"white-space:pre;overflow-x:auto;line-height:normal;font-family:Menlo,'DejaVu Sans Mono',consolas,'Courier New',monospace\"><span style=\"color: #7fbfbf; text-decoration-color: #7fbfbf\">2023-08-31 13:53:37 </span><span style=\"color: #000080; text-decoration-color: #000080\">INFO    </span> Connected to Neo4j database at bolt:<span style=\"color: #800080; text-decoration-color: #800080\">//</span><span style=\"color: #ff00ff; text-decoration-color: #ff00ff\">localhost</span>:<span style=\"color: #008080; text-decoration-color: #008080; font-weight: bold\">7687</span>                                                          <a href=\"file:///home/chase/Documents/github/kwan_lab/socialgene/sgpy/socialgene/neo4j/neo4j.py\" target=\"_blank\"><span style=\"color: #7f7f7f; text-decoration-color: #7f7f7f\">neo4j.py</span></a><span style=\"color: #7f7f7f; text-decoration-color: #7f7f7f\">:</span><a href=\"file:///home/chase/Documents/github/kwan_lab/socialgene/sgpy/socialgene/neo4j/neo4j.py#61\" target=\"_blank\"><span style=\"color: #7f7f7f; text-decoration-color: #7f7f7f\">61</span></a>\n",
       "</pre>\n"
      ],
      "text/plain": [
       "\u001b[2;36m2023-08-31 13:53:37\u001b[0m\u001b[2;36m \u001b[0m\u001b[34mINFO    \u001b[0m Connected to Neo4j database at bolt:\u001b[35m/\u001b[0m\u001b[35m/\u001b[0m\u001b[95mlocalhost\u001b[0m:\u001b[1;36m7687\u001b[0m                                                          \u001b]8;id=349854;file:///home/chase/Documents/github/kwan_lab/socialgene/sgpy/socialgene/neo4j/neo4j.py\u001b\\\u001b[2mneo4j.py\u001b[0m\u001b]8;;\u001b\\\u001b[2m:\u001b[0m\u001b]8;id=560785;file:///home/chase/Documents/github/kwan_lab/socialgene/sgpy/socialgene/neo4j/neo4j.py#61\u001b\\\u001b[2m61\u001b[0m\u001b]8;;\u001b\\\n"
      ]
     },
     "metadata": {},
     "output_type": "display_data"
    },
    {
     "name": "stdout",
     "output_type": "stream",
     "text": [
      "CPU times: user 10.7 ms, sys: 0 ns, total: 10.7 ms\n",
      "Wall time: 1.26 s\n"
     ]
    },
    {
     "data": {
      "text/html": [
       "<div>\n",
       "<style scoped>\n",
       "    .dataframe tbody tr th:only-of-type {\n",
       "        vertical-align: middle;\n",
       "    }\n",
       "\n",
       "    .dataframe tbody tr th {\n",
       "        vertical-align: top;\n",
       "    }\n",
       "\n",
       "    .dataframe thead th {\n",
       "        text-align: right;\n",
       "    }\n",
       "</style>\n",
       "<table border=\"1\" class=\"dataframe\">\n",
       "  <thead>\n",
       "    <tr style=\"text-align: right;\">\n",
       "      <th></th>\n",
       "      <th>assembly</th>\n",
       "      <th>sequence</th>\n",
       "      <th>locus_tag</th>\n",
       "      <th>protein_id</th>\n",
       "      <th>protein_description</th>\n",
       "      <th>gene_start</th>\n",
       "      <th>gene_end</th>\n",
       "      <th>log_adjusted_hmmsearch_i_evalue</th>\n",
       "      <th>protein_hash</th>\n",
       "    </tr>\n",
       "  </thead>\n",
       "  <tbody>\n",
       "    <tr>\n",
       "      <th>0</th>\n",
       "      <td>GCF_004323735.1</td>\n",
       "      <td>NZ_CP036455.1</td>\n",
       "      <td>EKD16_RS20930</td>\n",
       "      <td>WP_131100656.1</td>\n",
       "      <td>geranylgeranyl reductase family protein</td>\n",
       "      <td>4955705</td>\n",
       "      <td>4957006</td>\n",
       "      <td>-2</td>\n",
       "      <td>4kvtZxe11D9P4z3kOYUmi_oLdXH4IT-N</td>\n",
       "    </tr>\n",
       "    <tr>\n",
       "      <th>1</th>\n",
       "      <td>GCF_004323735.1</td>\n",
       "      <td>NZ_CP036455.1</td>\n",
       "      <td>EKD16_RS14000</td>\n",
       "      <td>WP_131098792.1</td>\n",
       "      <td>tryptophan 7-halogenase</td>\n",
       "      <td>3281238</td>\n",
       "      <td>3282746</td>\n",
       "      <td>-48</td>\n",
       "      <td>59gk5hDSro-EYM2vdjKMOAtHRELP0ith</td>\n",
       "    </tr>\n",
       "    <tr>\n",
       "      <th>2</th>\n",
       "      <td>GCF_004323735.1</td>\n",
       "      <td>NZ_CP036455.1</td>\n",
       "      <td>EKD16_RS14000</td>\n",
       "      <td>WP_131098792.1</td>\n",
       "      <td>tryptophan 7-halogenase</td>\n",
       "      <td>3281238</td>\n",
       "      <td>3282746</td>\n",
       "      <td>-19</td>\n",
       "      <td>59gk5hDSro-EYM2vdjKMOAtHRELP0ith</td>\n",
       "    </tr>\n",
       "    <tr>\n",
       "      <th>3</th>\n",
       "      <td>GCF_004153685.1</td>\n",
       "      <td>NZ_SDQD01000001.1</td>\n",
       "      <td>ERD84_RS05130</td>\n",
       "      <td>WP_130038523.1</td>\n",
       "      <td>tryptophan 7-halogenase</td>\n",
       "      <td>1086657</td>\n",
       "      <td>1087835</td>\n",
       "      <td>-3</td>\n",
       "      <td>1Al_kCHd_BPbr8PkALQuRkRUh5NNP5IX</td>\n",
       "    </tr>\n",
       "    <tr>\n",
       "      <th>4</th>\n",
       "      <td>GCF_009687845.1</td>\n",
       "      <td>NZ_BLAD01000056.1</td>\n",
       "      <td>Acor_RS20940</td>\n",
       "      <td>WP_155338399.1</td>\n",
       "      <td>geranylgeranyl reductase family protein</td>\n",
       "      <td>26646</td>\n",
       "      <td>27914</td>\n",
       "      <td>-1</td>\n",
       "      <td>0BdeYz5UVvxOLz1iSbpRbX-5iPMN8Jiu</td>\n",
       "    </tr>\n",
       "    <tr>\n",
       "      <th>5</th>\n",
       "      <td>GCF_009687845.1</td>\n",
       "      <td>NZ_BLAD01000043.1</td>\n",
       "      <td>Acor_RS10630</td>\n",
       "      <td>WP_155336424.1</td>\n",
       "      <td>tryptophan 7-halogenase</td>\n",
       "      <td>1042</td>\n",
       "      <td>2583</td>\n",
       "      <td>-140</td>\n",
       "      <td>KoBq99m9B-ePpQGbNaKRerz19p2pnuZG</td>\n",
       "    </tr>\n",
       "    <tr>\n",
       "      <th>6</th>\n",
       "      <td>GCF_002847285.1</td>\n",
       "      <td>NZ_CP025407.1</td>\n",
       "      <td>CXR04_RS17345</td>\n",
       "      <td>WP_101423313.1</td>\n",
       "      <td>FAD-dependent oxidoreductase</td>\n",
       "      <td>3996930</td>\n",
       "      <td>3998132</td>\n",
       "      <td>-2</td>\n",
       "      <td>1QrIKvXS0hMXykmT8okKGv6_BTcqR1by</td>\n",
       "    </tr>\n",
       "    <tr>\n",
       "      <th>7</th>\n",
       "      <td>GCF_002847285.1</td>\n",
       "      <td>NZ_CP025407.1</td>\n",
       "      <td>CXR04_RS14205</td>\n",
       "      <td>WP_101422445.1</td>\n",
       "      <td>geranylgeranyl reductase family protein</td>\n",
       "      <td>3317579</td>\n",
       "      <td>3318865</td>\n",
       "      <td>-2</td>\n",
       "      <td>Pu2JUzpV5lq3LWA4vWfkKcEU73yw-_ap</td>\n",
       "    </tr>\n",
       "  </tbody>\n",
       "</table>\n",
       "</div>"
      ],
      "text/plain": [
       "          assembly           sequence      locus_tag      protein_id  \\\n",
       "0  GCF_004323735.1      NZ_CP036455.1  EKD16_RS20930  WP_131100656.1   \n",
       "1  GCF_004323735.1      NZ_CP036455.1  EKD16_RS14000  WP_131098792.1   \n",
       "2  GCF_004323735.1      NZ_CP036455.1  EKD16_RS14000  WP_131098792.1   \n",
       "3  GCF_004153685.1  NZ_SDQD01000001.1  ERD84_RS05130  WP_130038523.1   \n",
       "4  GCF_009687845.1  NZ_BLAD01000056.1   Acor_RS20940  WP_155338399.1   \n",
       "5  GCF_009687845.1  NZ_BLAD01000043.1   Acor_RS10630  WP_155336424.1   \n",
       "6  GCF_002847285.1      NZ_CP025407.1  CXR04_RS17345  WP_101423313.1   \n",
       "7  GCF_002847285.1      NZ_CP025407.1  CXR04_RS14205  WP_101422445.1   \n",
       "\n",
       "                       protein_description  gene_start  gene_end  \\\n",
       "0  geranylgeranyl reductase family protein     4955705   4957006   \n",
       "1                  tryptophan 7-halogenase     3281238   3282746   \n",
       "2                  tryptophan 7-halogenase     3281238   3282746   \n",
       "3                  tryptophan 7-halogenase     1086657   1087835   \n",
       "4  geranylgeranyl reductase family protein       26646     27914   \n",
       "5                  tryptophan 7-halogenase        1042      2583   \n",
       "6             FAD-dependent oxidoreductase     3996930   3998132   \n",
       "7  geranylgeranyl reductase family protein     3317579   3318865   \n",
       "\n",
       "   log_adjusted_hmmsearch_i_evalue                      protein_hash  \n",
       "0                               -2  4kvtZxe11D9P4z3kOYUmi_oLdXH4IT-N  \n",
       "1                              -48  59gk5hDSro-EYM2vdjKMOAtHRELP0ith  \n",
       "2                              -19  59gk5hDSro-EYM2vdjKMOAtHRELP0ith  \n",
       "3                               -3  1Al_kCHd_BPbr8PkALQuRkRUh5NNP5IX  \n",
       "4                               -1  0BdeYz5UVvxOLz1iSbpRbX-5iPMN8Jiu  \n",
       "5                             -140  KoBq99m9B-ePpQGbNaKRerz19p2pnuZG  \n",
       "6                               -2  1QrIKvXS0hMXykmT8okKGv6_BTcqR1by  \n",
       "7                               -2  Pu2JUzpV5lq3LWA4vWfkKcEU73yw-_ap  "
      ]
     },
     "execution_count": 3,
     "metadata": {},
     "output_type": "execute_result"
    }
   ],
   "source": [
    "%%time\n",
    "with GraphDriver() as db:\n",
    "    results = db.run(\n",
    "    \"\"\"\n",
    "    MATCH z=(a1:assembly)<-[:ASSEMBLES_TO]-(n1:nucleotide)-[e1:ENCODES]->(p1:protein)<-[an1:ANNOTATES]-(h1:hmm)-[:SOURCE_DB]-(:hmm_source {acc: $hmm_accession})\n",
    "    WHERE a1.isolation_source = $isolation_source\n",
    "    RETURN a1.uid as assembly,\n",
    "            n1.external_id as sequence,\n",
    "            e1.locus_tag as locus_tag, \n",
    "            e1.protein_id as protein_id, \n",
    "            e1.description as protein_description, \n",
    "            e1.start as gene_start,\n",
    "            e1.end as gene_end,\n",
    "            an1.i_evalue as log_adjusted_hmmsearch_i_evalue,\n",
    "            p1.uid as protein_hash\n",
    "    LIMIT 10\n",
    "    \"\"\",\n",
    "    hmm_accession=\"PF04820.17\",\n",
    "    isolation_source =\"beach sand\"\n",
    "    ).to_df()\n",
    "results"
   ]
  },
  {
   "attachments": {},
   "cell_type": "markdown",
   "metadata": {},
   "source": [
    "Pull in a genome"
   ]
  },
  {
   "cell_type": "code",
   "execution_count": 4,
   "metadata": {},
   "outputs": [
    {
     "data": {
      "text/html": [
       "<pre style=\"white-space:pre;overflow-x:auto;line-height:normal;font-family:Menlo,'DejaVu Sans Mono',consolas,'Courier New',monospace\"><span style=\"color: #7fbfbf; text-decoration-color: #7fbfbf\">2023-08-31 13:53:38 </span><span style=\"color: #000080; text-decoration-color: #000080\">INFO    </span> <span style=\"color: #008000; text-decoration-color: #008000\">'/home/chase/Documents/data/mibig/3_1/mibig_gbk_3.1/BGC0000001.gbk'</span> features <span style=\"font-weight: bold\">{</span><span style=\"color: #008000; text-decoration-color: #008000\">'CDS_motif'</span>: <span style=\"color: #008080; text-decoration-color: #008080; font-weight: bold\">104</span>,    <a href=\"file:///home/chase/Documents/github/kwan_lab/socialgene/sgpy/socialgene/parsers/sequence_parser.py\" target=\"_blank\"><span style=\"color: #7f7f7f; text-decoration-color: #7f7f7f\">sequence_parser.py</span></a><span style=\"color: #7f7f7f; text-decoration-color: #7f7f7f\">:</span><a href=\"file:///home/chase/Documents/github/kwan_lab/socialgene/sgpy/socialgene/parsers/sequence_parser.py#354\" target=\"_blank\"><span style=\"color: #7f7f7f; text-decoration-color: #7f7f7f\">354</span></a>\n",
       "<span style=\"color: #7fbfbf; text-decoration-color: #7fbfbf\">                    </span>         <span style=\"color: #008000; text-decoration-color: #008000\">'aSDomain'</span>: <span style=\"color: #008080; text-decoration-color: #008080; font-weight: bold\">38</span>, <span style=\"color: #008000; text-decoration-color: #008000\">'CDS'</span>: <span style=\"color: #008080; text-decoration-color: #008080; font-weight: bold\">28</span>, <span style=\"color: #008000; text-decoration-color: #008000\">'gene'</span>: <span style=\"color: #008080; text-decoration-color: #008080; font-weight: bold\">27</span>, <span style=\"color: #008000; text-decoration-color: #008000\">'aSModule'</span>: <span style=\"color: #008080; text-decoration-color: #008080; font-weight: bold\">7</span>, <span style=\"color: #008000; text-decoration-color: #008000\">'source'</span>: <span style=\"color: #008080; text-decoration-color: #008080; font-weight: bold\">1</span>, <span style=\"color: #008000; text-decoration-color: #008000\">'subregion'</span>: <span style=\"color: #008080; text-decoration-color: #008080; font-weight: bold\">1</span>, <span style=\"color: #008000; text-decoration-color: #008000\">'region'</span>: <span style=\"color: #008080; text-decoration-color: #008080; font-weight: bold\">1</span><span style=\"font-weight: bold\">}</span>    <span style=\"color: #7f7f7f; text-decoration-color: #7f7f7f\">                      </span>\n",
       "</pre>\n"
      ],
      "text/plain": [
       "\u001b[2;36m2023-08-31 13:53:38\u001b[0m\u001b[2;36m \u001b[0m\u001b[34mINFO    \u001b[0m \u001b[32m'/home/chase/Documents/data/mibig/3_1/mibig_gbk_3.1/BGC0000001.gbk'\u001b[0m features \u001b[1m{\u001b[0m\u001b[32m'CDS_motif'\u001b[0m: \u001b[1;36m104\u001b[0m,    \u001b]8;id=150461;file:///home/chase/Documents/github/kwan_lab/socialgene/sgpy/socialgene/parsers/sequence_parser.py\u001b\\\u001b[2msequence_parser.py\u001b[0m\u001b]8;;\u001b\\\u001b[2m:\u001b[0m\u001b]8;id=846188;file:///home/chase/Documents/github/kwan_lab/socialgene/sgpy/socialgene/parsers/sequence_parser.py#354\u001b\\\u001b[2m354\u001b[0m\u001b]8;;\u001b\\\n",
       "\u001b[2;36m                    \u001b[0m         \u001b[32m'aSDomain'\u001b[0m: \u001b[1;36m38\u001b[0m, \u001b[32m'CDS'\u001b[0m: \u001b[1;36m28\u001b[0m, \u001b[32m'gene'\u001b[0m: \u001b[1;36m27\u001b[0m, \u001b[32m'aSModule'\u001b[0m: \u001b[1;36m7\u001b[0m, \u001b[32m'source'\u001b[0m: \u001b[1;36m1\u001b[0m, \u001b[32m'subregion'\u001b[0m: \u001b[1;36m1\u001b[0m, \u001b[32m'region'\u001b[0m: \u001b[1;36m1\u001b[0m\u001b[1m}\u001b[0m    \u001b[2m                      \u001b[0m\n"
      ]
     },
     "metadata": {},
     "output_type": "display_data"
    }
   ],
   "source": [
    "gbk_file = \"/home/chase/Documents/data/mibig/3_1/mibig_gbk_3.1/BGC0000001.gbk\"\n",
    "sg = SocialGene()\n",
    "sg.parse(gbk_file)"
   ]
  },
  {
   "attachments": {},
   "cell_type": "markdown",
   "metadata": {},
   "source": [
    "Pull all domain info from database for all proteins in the sg obect"
   ]
  },
  {
   "cell_type": "code",
   "execution_count": 28,
   "metadata": {},
   "outputs": [
    {
     "data": {
      "text/plain": [
       "28"
      ]
     },
     "execution_count": 28,
     "metadata": {},
     "output_type": "execute_result"
    }
   ],
   "source": [
    "len(sg.proteins)"
   ]
  },
  {
   "cell_type": "code",
   "execution_count": 31,
   "metadata": {},
   "outputs": [
    {
     "name": "stdout",
     "output_type": "stream",
     "text": [
      "CPU times: user 50.2 ms, sys: 0 ns, total: 50.2 ms\n",
      "Wall time: 128 ms\n"
     ]
    }
   ],
   "source": [
    "%%time\n",
    "_ = sg.annotate(use_neo4j_precalc=True)"
   ]
  },
  {
   "attachments": {},
   "cell_type": "markdown",
   "metadata": {},
   "source": [
    "Compare the domains between proteins (all vs all)"
   ]
  },
  {
   "cell_type": "code",
   "execution_count": 26,
   "metadata": {},
   "outputs": [
    {
     "data": {
      "text/html": [
       "<pre style=\"white-space:pre;overflow-x:auto;line-height:normal;font-family:Menlo,'DejaVu Sans Mono',consolas,'Courier New',monospace\"><span style=\"color: #7fbfbf; text-decoration-color: #7fbfbf\">2023-08-31 13:57:19 </span><span style=\"color: #000080; text-decoration-color: #000080\">INFO    </span> Converting protein_comparison list to dataframe and sorting by mod_score                           <a href=\"file:///home/chase/Documents/github/kwan_lab/socialgene/sgpy/socialgene/base/compare_protein.py\" target=\"_blank\"><span style=\"color: #7f7f7f; text-decoration-color: #7f7f7f\">compare_protein.py</span></a><span style=\"color: #7f7f7f; text-decoration-color: #7f7f7f\">:</span><a href=\"file:///home/chase/Documents/github/kwan_lab/socialgene/sgpy/socialgene/base/compare_protein.py#166\" target=\"_blank\"><span style=\"color: #7f7f7f; text-decoration-color: #7f7f7f\">166</span></a>\n",
       "</pre>\n"
      ],
      "text/plain": [
       "\u001b[2;36m2023-08-31 13:57:19\u001b[0m\u001b[2;36m \u001b[0m\u001b[34mINFO    \u001b[0m Converting protein_comparison list to dataframe and sorting by mod_score                           \u001b]8;id=143716;file:///home/chase/Documents/github/kwan_lab/socialgene/sgpy/socialgene/base/compare_protein.py\u001b\\\u001b[2mcompare_protein.py\u001b[0m\u001b]8;;\u001b\\\u001b[2m:\u001b[0m\u001b]8;id=731589;file:///home/chase/Documents/github/kwan_lab/socialgene/sgpy/socialgene/base/compare_protein.py#166\u001b\\\u001b[2m166\u001b[0m\u001b]8;;\u001b\\\n"
      ]
     },
     "metadata": {},
     "output_type": "display_data"
    }
   ],
   "source": [
    "sg.compare_proteins(append=True)\n",
    "sg.protein_comparison_to_df()"
   ]
  },
  {
   "attachments": {},
   "cell_type": "markdown",
   "metadata": {},
   "source": [
    "`mod_score` below is:\n",
    "\n",
    "```\n",
    "if jaccard_score == 0:\n",
    "    mod_score_value = 0\n",
    "else:\n",
    "    mod_score_value = (jaccard_score * 0.5) + mod_levenshtein_score\n",
    "```\n",
    "\n",
    "Where mod_levenshtein_score is a max-edit adjusted Levenshtein distance, in order to scale the metric 0 to 1"
   ]
  },
  {
   "cell_type": "code",
   "execution_count": 32,
   "metadata": {},
   "outputs": [
    {
     "data": {
      "text/html": [
       "<div>\n",
       "<style scoped>\n",
       "    .dataframe tbody tr th:only-of-type {\n",
       "        vertical-align: middle;\n",
       "    }\n",
       "\n",
       "    .dataframe tbody tr th {\n",
       "        vertical-align: top;\n",
       "    }\n",
       "\n",
       "    .dataframe thead th {\n",
       "        text-align: right;\n",
       "    }\n",
       "</style>\n",
       "<table border=\"1\" class=\"dataframe\">\n",
       "  <thead>\n",
       "    <tr style=\"text-align: right;\">\n",
       "      <th></th>\n",
       "      <th>query</th>\n",
       "      <th>target</th>\n",
       "      <th>query_n_domains</th>\n",
       "      <th>target_n_domains</th>\n",
       "      <th>levenshtein</th>\n",
       "      <th>jaccard</th>\n",
       "      <th>mod_score</th>\n",
       "    </tr>\n",
       "  </thead>\n",
       "  <tbody>\n",
       "    <tr>\n",
       "      <th>0</th>\n",
       "      <td>y16g4mrip1rIn89xeDFTX6FLUhaY2rlF</td>\n",
       "      <td>y16g4mrip1rIn89xeDFTX6FLUhaY2rlF</td>\n",
       "      <td>7</td>\n",
       "      <td>7</td>\n",
       "      <td>1.0</td>\n",
       "      <td>1.0</td>\n",
       "      <td>1.5</td>\n",
       "    </tr>\n",
       "    <tr>\n",
       "      <th>55</th>\n",
       "      <td>MoLkddRrWI7LVxHGv7ypKfUNz7Laj2wL</td>\n",
       "      <td>MoLkddRrWI7LVxHGv7ypKfUNz7Laj2wL</td>\n",
       "      <td>3</td>\n",
       "      <td>3</td>\n",
       "      <td>1.0</td>\n",
       "      <td>1.0</td>\n",
       "      <td>1.5</td>\n",
       "    </tr>\n",
       "    <tr>\n",
       "      <th>106</th>\n",
       "      <td>KIR7ngehgJ-dPS9UAmQKYTbeU-eNzVmQ</td>\n",
       "      <td>KIR7ngehgJ-dPS9UAmQKYTbeU-eNzVmQ</td>\n",
       "      <td>7</td>\n",
       "      <td>7</td>\n",
       "      <td>1.0</td>\n",
       "      <td>1.0</td>\n",
       "      <td>1.5</td>\n",
       "    </tr>\n",
       "    <tr>\n",
       "      <th>130</th>\n",
       "      <td>_QAobw4i1j-wEsBoKzgWvQY4TIp7k_ro</td>\n",
       "      <td>_QAobw4i1j-wEsBoKzgWvQY4TIp7k_ro</td>\n",
       "      <td>5</td>\n",
       "      <td>5</td>\n",
       "      <td>1.0</td>\n",
       "      <td>1.0</td>\n",
       "      <td>1.5</td>\n",
       "    </tr>\n",
       "    <tr>\n",
       "      <th>153</th>\n",
       "      <td>XQ8mbp2HCNhOTXzOc8kpkNwC09FUlJcy</td>\n",
       "      <td>XQ8mbp2HCNhOTXzOc8kpkNwC09FUlJcy</td>\n",
       "      <td>7</td>\n",
       "      <td>7</td>\n",
       "      <td>1.0</td>\n",
       "      <td>1.0</td>\n",
       "      <td>1.5</td>\n",
       "    </tr>\n",
       "    <tr>\n",
       "      <th>...</th>\n",
       "      <td>...</td>\n",
       "      <td>...</td>\n",
       "      <td>...</td>\n",
       "      <td>...</td>\n",
       "      <td>...</td>\n",
       "      <td>...</td>\n",
       "      <td>...</td>\n",
       "    </tr>\n",
       "    <tr>\n",
       "      <th>152</th>\n",
       "      <td>_QAobw4i1j-wEsBoKzgWvQY4TIp7k_ro</td>\n",
       "      <td>cp7rGmIB7AZOYPd-2dPXQ_-MtnzSnKXD</td>\n",
       "      <td>5</td>\n",
       "      <td>4</td>\n",
       "      <td>0.0</td>\n",
       "      <td>0.0</td>\n",
       "      <td>0.0</td>\n",
       "    </tr>\n",
       "    <tr>\n",
       "      <th>151</th>\n",
       "      <td>_QAobw4i1j-wEsBoKzgWvQY4TIp7k_ro</td>\n",
       "      <td>ufAusqX795oGMqZjvJz97i80uvDqux97</td>\n",
       "      <td>5</td>\n",
       "      <td>12</td>\n",
       "      <td>0.0</td>\n",
       "      <td>0.0</td>\n",
       "      <td>0.0</td>\n",
       "    </tr>\n",
       "    <tr>\n",
       "      <th>150</th>\n",
       "      <td>_QAobw4i1j-wEsBoKzgWvQY4TIp7k_ro</td>\n",
       "      <td>Na-Fe4IJ27iRUmWcQri4xMBvaciXdu9A</td>\n",
       "      <td>5</td>\n",
       "      <td>8</td>\n",
       "      <td>0.0</td>\n",
       "      <td>0.0</td>\n",
       "      <td>0.0</td>\n",
       "    </tr>\n",
       "    <tr>\n",
       "      <th>149</th>\n",
       "      <td>_QAobw4i1j-wEsBoKzgWvQY4TIp7k_ro</td>\n",
       "      <td>kBBW8NgXlhgoHI6zCf0ILCnleFPQsoGk</td>\n",
       "      <td>5</td>\n",
       "      <td>2</td>\n",
       "      <td>0.0</td>\n",
       "      <td>0.0</td>\n",
       "      <td>0.0</td>\n",
       "    </tr>\n",
       "    <tr>\n",
       "      <th>203</th>\n",
       "      <td>AGsXb--s8jtzOBSIqfT8pNIustGtuGbl</td>\n",
       "      <td>hYq1b03-ydDGmN4PUPt6wXI58HTlVjH1</td>\n",
       "      <td>4</td>\n",
       "      <td>6</td>\n",
       "      <td>0.0</td>\n",
       "      <td>0.0</td>\n",
       "      <td>0.0</td>\n",
       "    </tr>\n",
       "  </tbody>\n",
       "</table>\n",
       "<p>406 rows × 7 columns</p>\n",
       "</div>"
      ],
      "text/plain": [
       "                                query                            target  \\\n",
       "0    y16g4mrip1rIn89xeDFTX6FLUhaY2rlF  y16g4mrip1rIn89xeDFTX6FLUhaY2rlF   \n",
       "55   MoLkddRrWI7LVxHGv7ypKfUNz7Laj2wL  MoLkddRrWI7LVxHGv7ypKfUNz7Laj2wL   \n",
       "106  KIR7ngehgJ-dPS9UAmQKYTbeU-eNzVmQ  KIR7ngehgJ-dPS9UAmQKYTbeU-eNzVmQ   \n",
       "130  _QAobw4i1j-wEsBoKzgWvQY4TIp7k_ro  _QAobw4i1j-wEsBoKzgWvQY4TIp7k_ro   \n",
       "153  XQ8mbp2HCNhOTXzOc8kpkNwC09FUlJcy  XQ8mbp2HCNhOTXzOc8kpkNwC09FUlJcy   \n",
       "..                                ...                               ...   \n",
       "152  _QAobw4i1j-wEsBoKzgWvQY4TIp7k_ro  cp7rGmIB7AZOYPd-2dPXQ_-MtnzSnKXD   \n",
       "151  _QAobw4i1j-wEsBoKzgWvQY4TIp7k_ro  ufAusqX795oGMqZjvJz97i80uvDqux97   \n",
       "150  _QAobw4i1j-wEsBoKzgWvQY4TIp7k_ro  Na-Fe4IJ27iRUmWcQri4xMBvaciXdu9A   \n",
       "149  _QAobw4i1j-wEsBoKzgWvQY4TIp7k_ro  kBBW8NgXlhgoHI6zCf0ILCnleFPQsoGk   \n",
       "203  AGsXb--s8jtzOBSIqfT8pNIustGtuGbl  hYq1b03-ydDGmN4PUPt6wXI58HTlVjH1   \n",
       "\n",
       "     query_n_domains  target_n_domains  levenshtein  jaccard  mod_score  \n",
       "0                  7                 7          1.0      1.0        1.5  \n",
       "55                 3                 3          1.0      1.0        1.5  \n",
       "106                7                 7          1.0      1.0        1.5  \n",
       "130                5                 5          1.0      1.0        1.5  \n",
       "153                7                 7          1.0      1.0        1.5  \n",
       "..               ...               ...          ...      ...        ...  \n",
       "152                5                 4          0.0      0.0        0.0  \n",
       "151                5                12          0.0      0.0        0.0  \n",
       "150                5                 8          0.0      0.0        0.0  \n",
       "149                5                 2          0.0      0.0        0.0  \n",
       "203                4                 6          0.0      0.0        0.0  \n",
       "\n",
       "[406 rows x 7 columns]"
      ]
     },
     "execution_count": 32,
     "metadata": {},
     "output_type": "execute_result"
    }
   ],
   "source": [
    "sg.protein_comparison"
   ]
  }
 ],
 "metadata": {
  "kernelspec": {
   "display_name": "socialgene_nf",
   "language": "python",
   "name": "python3"
  },
  "language_info": {
   "codemirror_mode": {
    "name": "ipython",
    "version": 3
   },
   "file_extension": ".py",
   "mimetype": "text/x-python",
   "name": "python",
   "nbconvert_exporter": "python",
   "pygments_lexer": "ipython3",
   "version": "3.10.0"
  },
  "orig_nbformat": 4,
  "vscode": {
   "interpreter": {
    "hash": "f2b6c26f9c188fc6a0f9d40c6b34e137f67af84c75292f214750552bddc5cdee"
   }
  }
 },
 "nbformat": 4,
 "nbformat_minor": 2
}
